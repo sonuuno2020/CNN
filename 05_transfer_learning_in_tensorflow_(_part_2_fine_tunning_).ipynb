{
  "nbformat": 4,
  "nbformat_minor": 0,
  "metadata": {
    "colab": {
      "provenance": [],
      "collapsed_sections": [],
      "authorship_tag": "ABX9TyPmdfj4K3eIn3X4kGV9K6jI",
      "include_colab_link": true
    },
    "kernelspec": {
      "name": "python3",
      "display_name": "Python 3"
    },
    "language_info": {
      "name": "python"
    },
    "accelerator": "GPU"
  },
  "cells": [
    {
      "cell_type": "markdown",
      "metadata": {
        "id": "view-in-github",
        "colab_type": "text"
      },
      "source": [
        "<a href=\"https://colab.research.google.com/github/sonuuno2020/CNN/blob/main/05_transfer_learning_in_tensorflow_(_part_2_fine_tunning_).ipynb\" target=\"_parent\"><img src=\"https://colab.research.google.com/assets/colab-badge.svg\" alt=\"Open In Colab\"/></a>"
      ]
    },
    {
      "cell_type": "markdown",
      "source": [
        "# **Treansfer Learning in Tensorflow - Fine Tunning (part 2)**"
      ],
      "metadata": {
        "id": "ymBQtMHU6Mzs"
      }
    },
    {
      "cell_type": "markdown",
      "source": [
        "**What is special to fine tunning 🌟**\n",
        "\n",
        "In first transfer learning technique , **`feature extraction`** we have learned to utilize a pre-train model on our **custom data without making any change in model** just add output layers according to our problem\n",
        "\n",
        "---\n",
        "Here we will going to learn how we can **make changes in pretrain-model , It could be in some layers or all layers of model** and here we require **more custom data than feature extraction technique**\n"
      ],
      "metadata": {
        "id": "gYgaDJAw6dVB"
      }
    },
    {
      "cell_type": "code",
      "execution_count": null,
      "metadata": {
        "colab": {
          "base_uri": "https://localhost:8080/"
        },
        "id": "73Wdhtax51hG",
        "outputId": "90e557b7-f688-4c5e-ae46-484062702c58"
      },
      "outputs": [
        {
          "output_type": "stream",
          "name": "stdout",
          "text": [
            "Fri Jan 28 13:31:24 2022       \n",
            "+-----------------------------------------------------------------------------+\n",
            "| NVIDIA-SMI 495.46       Driver Version: 460.32.03    CUDA Version: 11.2     |\n",
            "|-------------------------------+----------------------+----------------------+\n",
            "| GPU  Name        Persistence-M| Bus-Id        Disp.A | Volatile Uncorr. ECC |\n",
            "| Fan  Temp  Perf  Pwr:Usage/Cap|         Memory-Usage | GPU-Util  Compute M. |\n",
            "|                               |                      |               MIG M. |\n",
            "|===============================+======================+======================|\n",
            "|   0  Tesla K80           Off  | 00000000:00:04.0 Off |                    0 |\n",
            "| N/A   36C    P8    28W / 149W |      0MiB / 11441MiB |      0%      Default |\n",
            "|                               |                      |                  N/A |\n",
            "+-------------------------------+----------------------+----------------------+\n",
            "                                                                               \n",
            "+-----------------------------------------------------------------------------+\n",
            "| Processes:                                                                  |\n",
            "|  GPU   GI   CI        PID   Type   Process name                  GPU Memory |\n",
            "|        ID   ID                                                   Usage      |\n",
            "|=============================================================================|\n",
            "|  No running processes found                                                 |\n",
            "+-----------------------------------------------------------------------------+\n"
          ]
        }
      ],
      "source": [
        "# check we are using GPU\n",
        "!nvidia-smi"
      ]
    },
    {
      "cell_type": "markdown",
      "source": [
        "## **Get Helper functions**"
      ],
      "metadata": {
        "id": "DfKdRQSX9Opa"
      }
    },
    {
      "cell_type": "code",
      "source": [
        "!wget https://raw.githubusercontent.com/mrdbourke/tensorflow-deep-learning/main/extras/helper_functions.py"
      ],
      "metadata": {
        "colab": {
          "base_uri": "https://localhost:8080/"
        },
        "id": "h9eIqpB_8VKB",
        "outputId": "af36414d-3f2f-4ed3-b994-365e72bb0188"
      },
      "execution_count": null,
      "outputs": [
        {
          "output_type": "stream",
          "name": "stdout",
          "text": [
            "--2022-01-28 13:31:32--  https://raw.githubusercontent.com/mrdbourke/tensorflow-deep-learning/main/extras/helper_functions.py\n",
            "Resolving raw.githubusercontent.com (raw.githubusercontent.com)... 185.199.110.133, 185.199.111.133, 185.199.109.133, ...\n",
            "Connecting to raw.githubusercontent.com (raw.githubusercontent.com)|185.199.110.133|:443... connected.\n",
            "HTTP request sent, awaiting response... 200 OK\n",
            "Length: 10246 (10K) [text/plain]\n",
            "Saving to: ‘helper_functions.py’\n",
            "\n",
            "\rhelper_functions.py   0%[                    ]       0  --.-KB/s               \rhelper_functions.py 100%[===================>]  10.01K  --.-KB/s    in 0s      \n",
            "\n",
            "2022-01-28 13:31:32 (50.0 MB/s) - ‘helper_functions.py’ saved [10246/10246]\n",
            "\n"
          ]
        }
      ]
    },
    {
      "cell_type": "code",
      "source": [
        "from helper_functions import create_tensorboard_callback,unzip_data,walk_through_dir"
      ],
      "metadata": {
        "id": "WEJqBbXW9VZu"
      },
      "execution_count": null,
      "outputs": []
    },
    {
      "cell_type": "markdown",
      "source": [
        "## **Get our Data**"
      ],
      "metadata": {
        "id": "xDs2HD7n9lpp"
      }
    },
    {
      "cell_type": "markdown",
      "source": [
        "Let's first go with `tf.keras.application` pretrained model:"
      ],
      "metadata": {
        "id": "5NKMDHoj-3Eg"
      }
    },
    {
      "cell_type": "code",
      "source": [
        "!wget https://storage.googleapis.com/ztm_tf_course/food_vision/10_food_classes_10_percent.zip\n",
        "\n",
        "unzip_data(\"10_food_classes_10_percent.zip\")"
      ],
      "metadata": {
        "colab": {
          "base_uri": "https://localhost:8080/"
        },
        "id": "YJQ2QvcC9g5F",
        "outputId": "4c0d7d20-83e8-463b-97cd-1a289fca5bd3"
      },
      "execution_count": null,
      "outputs": [
        {
          "output_type": "stream",
          "name": "stdout",
          "text": [
            "--2022-01-28 13:31:40--  https://storage.googleapis.com/ztm_tf_course/food_vision/10_food_classes_10_percent.zip\n",
            "Resolving storage.googleapis.com (storage.googleapis.com)... 74.125.133.128, 74.125.140.128, 108.177.15.128, ...\n",
            "Connecting to storage.googleapis.com (storage.googleapis.com)|74.125.133.128|:443... connected.\n",
            "HTTP request sent, awaiting response... 200 OK\n",
            "Length: 168546183 (161M) [application/zip]\n",
            "Saving to: ‘10_food_classes_10_percent.zip’\n",
            "\n",
            "10_food_classes_10_ 100%[===================>] 160.74M   114MB/s    in 1.4s    \n",
            "\n",
            "2022-01-28 13:31:42 (114 MB/s) - ‘10_food_classes_10_percent.zip’ saved [168546183/168546183]\n",
            "\n"
          ]
        }
      ]
    },
    {
      "cell_type": "code",
      "source": [
        "walk_through_dir(\"10_food_classes_10_percent\")"
      ],
      "metadata": {
        "colab": {
          "base_uri": "https://localhost:8080/"
        },
        "id": "KB26-PF-_NOD",
        "outputId": "0a7afd29-9e1c-4522-9fe6-4a7317459c83"
      },
      "execution_count": null,
      "outputs": [
        {
          "output_type": "stream",
          "name": "stdout",
          "text": [
            "There are 2 directories and 0 images in '10_food_classes_10_percent'.\n",
            "There are 10 directories and 0 images in '10_food_classes_10_percent/test'.\n",
            "There are 0 directories and 250 images in '10_food_classes_10_percent/test/pizza'.\n",
            "There are 0 directories and 250 images in '10_food_classes_10_percent/test/steak'.\n",
            "There are 0 directories and 250 images in '10_food_classes_10_percent/test/ramen'.\n",
            "There are 0 directories and 250 images in '10_food_classes_10_percent/test/ice_cream'.\n",
            "There are 0 directories and 250 images in '10_food_classes_10_percent/test/fried_rice'.\n",
            "There are 0 directories and 250 images in '10_food_classes_10_percent/test/sushi'.\n",
            "There are 0 directories and 250 images in '10_food_classes_10_percent/test/grilled_salmon'.\n",
            "There are 0 directories and 250 images in '10_food_classes_10_percent/test/hamburger'.\n",
            "There are 0 directories and 250 images in '10_food_classes_10_percent/test/chicken_curry'.\n",
            "There are 0 directories and 250 images in '10_food_classes_10_percent/test/chicken_wings'.\n",
            "There are 10 directories and 0 images in '10_food_classes_10_percent/train'.\n",
            "There are 0 directories and 75 images in '10_food_classes_10_percent/train/pizza'.\n",
            "There are 0 directories and 75 images in '10_food_classes_10_percent/train/steak'.\n",
            "There are 0 directories and 75 images in '10_food_classes_10_percent/train/ramen'.\n",
            "There are 0 directories and 75 images in '10_food_classes_10_percent/train/ice_cream'.\n",
            "There are 0 directories and 75 images in '10_food_classes_10_percent/train/fried_rice'.\n",
            "There are 0 directories and 75 images in '10_food_classes_10_percent/train/sushi'.\n",
            "There are 0 directories and 75 images in '10_food_classes_10_percent/train/grilled_salmon'.\n",
            "There are 0 directories and 75 images in '10_food_classes_10_percent/train/hamburger'.\n",
            "There are 0 directories and 75 images in '10_food_classes_10_percent/train/chicken_curry'.\n",
            "There are 0 directories and 75 images in '10_food_classes_10_percent/train/chicken_wings'.\n"
          ]
        }
      ]
    },
    {
      "cell_type": "code",
      "source": [
        "train_dir=\"10_food_classes_10_percent/train\"\n",
        "test_dir=\"10_food_classes_10_percent/test\""
      ],
      "metadata": {
        "id": "Yo_kYt5H_6Xk"
      },
      "execution_count": null,
      "outputs": []
    },
    {
      "cell_type": "code",
      "source": [
        "import tensorflow as tf\n",
        "\n",
        "train_data_10_percent=tf.keras.preprocessing.image_dataset_from_directory(directory=train_dir,\n",
        "                                                            image_size=(224,224),\n",
        "                                                            label_mode='categorical',\n",
        "                                                            batch_size=32)\n",
        "\n",
        "test_data=tf.keras.preprocessing.image_dataset_from_directory(directory=test_dir,\n",
        "                                                image_size=(224,224),\n",
        "                                                label_mode='categorical',\n",
        "                                                batch_size=32)"
      ],
      "metadata": {
        "colab": {
          "base_uri": "https://localhost:8080/"
        },
        "id": "tZt6rhnnAmQN",
        "outputId": "88b0551b-d9ec-4fe5-d257-a33188602047"
      },
      "execution_count": null,
      "outputs": [
        {
          "output_type": "stream",
          "name": "stdout",
          "text": [
            "Found 750 files belonging to 10 classes.\n",
            "Found 2500 files belonging to 10 classes.\n"
          ]
        }
      ]
    },
    {
      "cell_type": "code",
      "source": [
        "train_data_10_percent"
      ],
      "metadata": {
        "colab": {
          "base_uri": "https://localhost:8080/"
        },
        "id": "uFHNk_gBCbWN",
        "outputId": "25060132-5b8a-4489-ef3e-18631e64ff22"
      },
      "execution_count": null,
      "outputs": [
        {
          "output_type": "execute_result",
          "data": {
            "text/plain": [
              "<BatchDataset shapes: ((None, 224, 224, 3), (None, 10)), types: (tf.float32, tf.float32)>"
            ]
          },
          "metadata": {},
          "execution_count": 8
        }
      ]
    },
    {
      "cell_type": "code",
      "source": [
        "train_data_10_percent.class_names"
      ],
      "metadata": {
        "colab": {
          "base_uri": "https://localhost:8080/"
        },
        "id": "GMdSQfl_Ct-m",
        "outputId": "3e0a5f21-d93a-4c78-c28e-1b3aba386688"
      },
      "execution_count": null,
      "outputs": [
        {
          "output_type": "execute_result",
          "data": {
            "text/plain": [
              "['chicken_curry',\n",
              " 'chicken_wings',\n",
              " 'fried_rice',\n",
              " 'grilled_salmon',\n",
              " 'hamburger',\n",
              " 'ice_cream',\n",
              " 'pizza',\n",
              " 'ramen',\n",
              " 'steak',\n",
              " 'sushi']"
            ]
          },
          "metadata": {},
          "execution_count": 9
        }
      ]
    },
    {
      "cell_type": "code",
      "source": [
        "train_data_10_percent.take(5)"
      ],
      "metadata": {
        "colab": {
          "base_uri": "https://localhost:8080/"
        },
        "id": "ASkVaCczDE3I",
        "outputId": "5ced91f1-1b0a-4747-d889-ab07733423a0"
      },
      "execution_count": null,
      "outputs": [
        {
          "output_type": "execute_result",
          "data": {
            "text/plain": [
              "<TakeDataset shapes: ((None, 224, 224, 3), (None, 10)), types: (tf.float32, tf.float32)>"
            ]
          },
          "metadata": {},
          "execution_count": 10
        }
      ]
    },
    {
      "cell_type": "code",
      "source": [
        "for images,labels in train_data_10_percent.take(1):\n",
        "  print(images,labels)"
      ],
      "metadata": {
        "colab": {
          "base_uri": "https://localhost:8080/"
        },
        "id": "95RnyPl8DOcK",
        "outputId": "e9cdefb3-c020-4abf-eaad-cd252d776bf8"
      },
      "execution_count": null,
      "outputs": [
        {
          "output_type": "stream",
          "name": "stdout",
          "text": [
            "tf.Tensor(\n",
            "[[[[2.27142868e+02 2.20142868e+02 2.12142868e+02]\n",
            "   [2.28576538e+02 2.21576538e+02 2.13576538e+02]\n",
            "   [2.29994904e+02 2.22780609e+02 2.17423462e+02]\n",
            "   ...\n",
            "   [2.14263916e-01 2.14263916e-01 2.21426392e+00]\n",
            "   [0.00000000e+00 0.00000000e+00 2.00000000e+00]\n",
            "   [0.00000000e+00 0.00000000e+00 2.00000000e+00]]\n",
            "\n",
            "  [[1.88198959e+02 1.83198959e+02 1.77198959e+02]\n",
            "   [2.02010193e+02 1.97010193e+02 1.91010193e+02]\n",
            "   [2.12265305e+02 2.07265305e+02 2.01693878e+02]\n",
            "   ...\n",
            "   [2.14263916e-01 2.14263916e-01 2.21426392e+00]\n",
            "   [0.00000000e+00 0.00000000e+00 2.00000000e+00]\n",
            "   [0.00000000e+00 0.00000000e+00 2.00000000e+00]]\n",
            "\n",
            "  [[5.03163223e+01 4.55306091e+01 4.17448921e+01]\n",
            "   [7.61479568e+01 7.13622437e+01 6.75765305e+01]\n",
            "   [9.69591751e+01 9.23877487e+01 8.81734619e+01]\n",
            "   ...\n",
            "   [2.14263916e-01 2.14263916e-01 2.21426392e+00]\n",
            "   [0.00000000e+00 0.00000000e+00 2.00000000e+00]\n",
            "   [0.00000000e+00 0.00000000e+00 2.00000000e+00]]\n",
            "\n",
            "  ...\n",
            "\n",
            "  [[1.72785721e+02 1.59785721e+02 1.42632675e+02]\n",
            "   [1.67214264e+02 1.55214264e+02 1.41071411e+02]\n",
            "   [1.65025497e+02 1.52454071e+02 1.44882645e+02]\n",
            "   ...\n",
            "   [1.65509739e+01 1.95509739e+01 1.25509739e+01]\n",
            "   [1.22703981e+01 1.52703981e+01 8.27039814e+00]\n",
            "   [1.56479721e+01 1.86479721e+01 1.16479721e+01]]\n",
            "\n",
            "  [[1.71045914e+02 1.58045914e+02 1.41091843e+02]\n",
            "   [1.68137787e+02 1.56137787e+02 1.43994934e+02]\n",
            "   [1.67142868e+02 1.54571442e+02 1.47030640e+02]\n",
            "   ...\n",
            "   [1.41989565e+01 1.71989574e+01 1.01989565e+01]\n",
            "   [1.62857666e+01 1.92857666e+01 1.22857666e+01]\n",
            "   [2.15000610e+01 2.45000610e+01 1.75000610e+01]]\n",
            "\n",
            "  [[1.71714325e+02 1.58714325e+02 1.42714325e+02]\n",
            "   [1.72285751e+02 1.60285751e+02 1.48142899e+02]\n",
            "   [1.66423431e+02 1.53852005e+02 1.46709137e+02]\n",
            "   ...\n",
            "   [1.72092972e+01 2.02092972e+01 1.32092972e+01]\n",
            "   [1.66632290e+01 1.96632290e+01 1.26632290e+01]\n",
            "   [2.00000000e+01 2.30000000e+01 1.60000000e+01]]]\n",
            "\n",
            "\n",
            " [[[1.27214287e+02 1.17214287e+02 1.25214287e+02]\n",
            "   [1.25882652e+02 1.15882652e+02 1.23882652e+02]\n",
            "   [1.25790817e+02 1.15790817e+02 1.23790817e+02]\n",
            "   ...\n",
            "   [1.59295914e+02 1.47295914e+02 1.49295914e+02]\n",
            "   [1.60331650e+02 1.48331650e+02 1.50331650e+02]\n",
            "   [1.54627563e+02 1.42627563e+02 1.44627563e+02]]\n",
            "\n",
            "  [[1.24857147e+02 1.14857147e+02 1.22857147e+02]\n",
            "   [1.23275513e+02 1.13275513e+02 1.21275513e+02]\n",
            "   [1.26515305e+02 1.17301018e+02 1.22943878e+02]\n",
            "   ...\n",
            "   [1.58913269e+02 1.46913269e+02 1.48913269e+02]\n",
            "   [1.59785736e+02 1.47785736e+02 1.49785736e+02]\n",
            "   [1.58051025e+02 1.46051025e+02 1.48051025e+02]]\n",
            "\n",
            "  [[1.28862244e+02 1.18647957e+02 1.26219383e+02]\n",
            "   [1.28928574e+02 1.19928574e+02 1.24928574e+02]\n",
            "   [1.26877556e+02 1.17877556e+02 1.22877556e+02]\n",
            "   ...\n",
            "   [1.61260193e+02 1.49260193e+02 1.52923447e+02]\n",
            "   [1.58387711e+02 1.46387711e+02 1.48816284e+02]\n",
            "   [1.57857132e+02 1.45857132e+02 1.48285706e+02]]\n",
            "\n",
            "  ...\n",
            "\n",
            "  [[1.20739845e+02 9.48163681e+01 6.85970306e+01]\n",
            "   [1.16525383e+02 9.07396469e+01 6.30968552e+01]\n",
            "   [1.23010277e+02 9.72245407e+01 6.95817490e+01]\n",
            "   ...\n",
            "   [9.19490051e+01 7.12092514e+01 5.48061256e+01]\n",
            "   [8.81021347e+01 6.91021347e+01 5.25306625e+01]\n",
            "   [8.72704620e+01 6.82704620e+01 5.16989861e+01]]\n",
            "\n",
            "  [[1.14387733e+02 8.77193604e+01 6.61479645e+01]\n",
            "   [1.11500183e+02 8.54287415e+01 6.25716248e+01]\n",
            "   [1.18306068e+02 9.22346268e+01 6.93775101e+01]\n",
            "   ...\n",
            "   [8.14796753e+01 6.09082642e+01 4.39082642e+01]\n",
            "   [8.90358047e+01 7.00358047e+01 5.30358047e+01]\n",
            "   [9.04898224e+01 7.14898224e+01 5.44898224e+01]]\n",
            "\n",
            "  [[1.07882408e+02 8.08824081e+01 6.34232559e+01]\n",
            "   [1.21468994e+02 9.44689941e+01 7.53771591e+01]\n",
            "   [1.16489784e+02 8.94897842e+01 6.86428604e+01]\n",
            "   ...\n",
            "   [8.85966949e+01 6.80252838e+01 5.10252838e+01]\n",
            "   [8.28315506e+01 6.38315506e+01 4.68315506e+01]\n",
            "   [8.32241898e+01 6.42241898e+01 4.72241898e+01]]]\n",
            "\n",
            "\n",
            " [[[1.26428576e+01 4.64285707e+00 1.64285719e+00]\n",
            "   [1.29744902e+01 4.97448969e+00 1.97448993e+00]\n",
            "   [1.48571434e+01 6.85714293e+00 3.85714293e+00]\n",
            "   ...\n",
            "   [2.54403122e+02 2.47842194e+02 2.41413666e+02]\n",
            "   [2.51811249e+02 2.54668365e+02 2.45525482e+02]\n",
            "   [2.45683319e+02 2.47968964e+02 2.30611786e+02]]\n",
            "\n",
            "  [[1.40000000e+01 7.00000000e+00 1.00000000e+00]\n",
            "   [1.40000000e+01 7.00000000e+00 1.00000000e+00]\n",
            "   [1.42857141e+01 7.28571415e+00 1.28571415e+00]\n",
            "   ...\n",
            "   [2.55000000e+02 2.53637894e+02 2.47796143e+02]\n",
            "   [2.51147980e+02 2.55000000e+02 2.48586685e+02]\n",
            "   [2.42167984e+02 2.42453629e+02 2.26933090e+02]]\n",
            "\n",
            "  [[1.74285717e+01 8.42857170e+00 3.42857170e+00]\n",
            "   [1.55000000e+01 6.50000000e+00 1.50000000e+00]\n",
            "   [1.52142859e+01 6.21428585e+00 1.21428585e+00]\n",
            "   ...\n",
            "   [2.51596878e+02 2.54234772e+02 2.48500168e+02]\n",
            "   [2.49943909e+02 2.55000000e+02 2.49515259e+02]\n",
            "   [2.46663010e+02 2.44076218e+02 2.31234299e+02]]\n",
            "\n",
            "  ...\n",
            "\n",
            "  [[1.67443893e+02 4.88724251e+01 7.21940184e+00]\n",
            "   [1.69280670e+02 5.32092361e+01 6.42352057e+00]\n",
            "   [1.74969254e+02 5.93978310e+01 7.75497341e+00]\n",
            "   ...\n",
            "   [2.50168350e+02 1.41168350e+02 5.81683540e+01]\n",
            "   [2.47872421e+02 1.38872421e+02 5.38724251e+01]\n",
            "   [2.44719345e+02 1.35719345e+02 5.07193527e+01]]\n",
            "\n",
            "  [[1.73382751e+02 5.90052605e+01 5.57659721e+00]\n",
            "   [2.03882706e+02 9.28878403e+01 3.64540672e+01]\n",
            "   [1.64061234e+02 5.55459785e+01 0.00000000e+00]\n",
            "   ...\n",
            "   [2.48071442e+02 1.39071442e+02 5.60714417e+01]\n",
            "   [2.48005096e+02 1.39005096e+02 5.40051041e+01]\n",
            "   [2.46811218e+02 1.37811218e+02 5.28112221e+01]]\n",
            "\n",
            "  [[2.00730042e+02 9.63984756e+01 2.46585007e+01]\n",
            "   [1.90377228e+02 8.82853928e+01 1.52597704e+01]\n",
            "   [2.13363831e+02 1.13869072e+02 4.12261124e+01]\n",
            "   ...\n",
            "   [2.49505081e+02 1.40505081e+02 5.75050888e+01]\n",
            "   [2.48617310e+02 1.39617310e+02 5.46173058e+01]\n",
            "   [2.47285645e+02 1.38285645e+02 5.32856445e+01]]]\n",
            "\n",
            "\n",
            " ...\n",
            "\n",
            "\n",
            " [[[7.74285660e+01 3.04285717e+01 1.44285707e+01]\n",
            "   [7.30000000e+01 2.70000000e+01 1.10000000e+01]\n",
            "   [7.02142868e+01 2.42142868e+01 8.21428585e+00]\n",
            "   ...\n",
            "   [1.38081482e+02 1.11438698e+02 7.86529617e+01]\n",
            "   [1.48673706e+02 1.24673706e+02 9.06737061e+01]\n",
            "   [1.85076813e+02 1.61076813e+02 1.27076813e+02]]\n",
            "\n",
            "  [[7.57397995e+01 2.87397957e+01 1.27397957e+01]\n",
            "   [7.48571472e+01 2.88571434e+01 1.28571434e+01]\n",
            "   [7.28724518e+01 2.68724499e+01 1.08724499e+01]\n",
            "   ...\n",
            "   [1.79607056e+02 1.52178528e+02 1.21750000e+02]\n",
            "   [1.57020142e+02 1.31020142e+02 9.80201416e+01]\n",
            "   [1.35709518e+02 1.11709518e+02 7.77095184e+01]]\n",
            "\n",
            "  [[7.25714264e+01 2.55714302e+01 9.14285660e+00]\n",
            "   [7.50714340e+01 2.80714302e+01 1.16428576e+01]\n",
            "   [7.26173477e+01 2.57857132e+01 9.35714245e+00]\n",
            "   ...\n",
            "   [1.97551010e+02 1.68459183e+02 1.38505096e+02]\n",
            "   [1.85045853e+02 1.57617279e+02 1.27188705e+02]\n",
            "   [1.70433472e+02 1.43790619e+02 1.11004906e+02]]\n",
            "\n",
            "  ...\n",
            "\n",
            "  [[6.20403404e+01 2.43311920e+01 1.91118336e+01]\n",
            "   [5.43871803e+01 1.69586525e+01 1.07443886e+01]\n",
            "   [7.31226501e+01 3.34339066e+01 2.64339256e+01]\n",
            "   ...\n",
            "   [2.52785736e+02 2.36785736e+02 2.02785736e+02]\n",
            "   [2.52984695e+02 2.36984695e+02 2.02984695e+02]\n",
            "   [2.52505081e+02 2.36505081e+02 2.02505081e+02]]\n",
            "\n",
            "  [[6.55662231e+01 3.21631546e+01 2.83723602e+01]\n",
            "   [6.16224022e+01 2.68928337e+01 2.27703762e+01]\n",
            "   [6.48521194e+01 2.73674145e+01 2.17500992e+01]\n",
            "   ...\n",
            "   [2.53000000e+02 2.37000000e+02 2.03000000e+02]\n",
            "   [2.53862213e+02 2.37862213e+02 2.03862213e+02]\n",
            "   [2.52974487e+02 2.36974487e+02 2.02974487e+02]]\n",
            "\n",
            "  [[5.71273880e+01 2.61273899e+01 2.37141457e+01]\n",
            "   [6.62801895e+01 3.34894714e+01 3.10863781e+01]\n",
            "   [5.77961082e+01 2.23675365e+01 1.79389648e+01]\n",
            "   ...\n",
            "   [2.52000000e+02 2.36000000e+02 2.02000000e+02]\n",
            "   [2.52596893e+02 2.36596893e+02 2.02596893e+02]\n",
            "   [2.51872421e+02 2.35872421e+02 2.01872421e+02]]]\n",
            "\n",
            "\n",
            " [[[2.54000000e+02 2.54000000e+02 2.54000000e+02]\n",
            "   [2.54000000e+02 2.54000000e+02 2.54000000e+02]\n",
            "   [2.54000000e+02 2.54000000e+02 2.54000000e+02]\n",
            "   ...\n",
            "   [1.58785721e+02 1.10785713e+02 7.07857132e+01]\n",
            "   [1.57357132e+02 1.09357132e+02 7.13571320e+01]\n",
            "   [1.55428574e+02 1.07428574e+02 6.94285736e+01]]\n",
            "\n",
            "  [[2.54000000e+02 2.54000000e+02 2.54000000e+02]\n",
            "   [2.54000000e+02 2.54000000e+02 2.54000000e+02]\n",
            "   [2.54000000e+02 2.54000000e+02 2.54000000e+02]\n",
            "   ...\n",
            "   [1.67270386e+02 1.18270386e+02 7.82703857e+01]\n",
            "   [1.67132660e+02 1.18132668e+02 7.81326675e+01]\n",
            "   [1.67928574e+02 1.18928574e+02 7.89285736e+01]]\n",
            "\n",
            "  [[2.54000000e+02 2.54000000e+02 2.54000000e+02]\n",
            "   [2.54000000e+02 2.54000000e+02 2.54000000e+02]\n",
            "   [2.54000000e+02 2.54000000e+02 2.54000000e+02]\n",
            "   ...\n",
            "   [1.64214264e+02 1.15214264e+02 7.48316269e+01]\n",
            "   [1.63841843e+02 1.14841850e+02 7.46275635e+01]\n",
            "   [1.65647964e+02 1.16647964e+02 7.64336777e+01]]\n",
            "\n",
            "  ...\n",
            "\n",
            "  [[2.55000000e+02 2.50918427e+02 2.33204178e+02]\n",
            "   [2.34979919e+02 2.24530930e+02 2.01459610e+02]\n",
            "   [2.16806183e+02 2.02974503e+02 1.91275574e+02]\n",
            "   ...\n",
            "   [2.14902969e+02 1.78734604e+02 1.54306076e+02]\n",
            "   [2.11443893e+02 1.79530640e+02 1.56627609e+02]\n",
            "   [2.04433548e+02 1.76714203e+02 1.55499939e+02]]\n",
            "\n",
            "  [[1.90917526e+02 1.78917526e+02 1.65009384e+02]\n",
            "   [1.32974274e+02 1.19907936e+02 1.11321274e+02]\n",
            "   [2.02847107e+02 1.88418533e+02 1.77071609e+02]\n",
            "   ...\n",
            "   [2.17928436e+02 1.79300888e+02 1.55729538e+02]\n",
            "   [2.07637695e+02 1.75923462e+02 1.54923462e+02]\n",
            "   [2.01999878e+02 1.73806076e+02 1.55402985e+02]]\n",
            "\n",
            "  [[1.23448517e+02 1.10805664e+02 1.00963852e+02]\n",
            "   [1.27076996e+02 1.12745331e+02 1.13694412e+02]\n",
            "   [2.10494781e+02 1.95999863e+02 1.85265198e+02]\n",
            "   ...\n",
            "   [2.21412994e+02 1.80198730e+02 1.57555939e+02]\n",
            "   [2.05571350e+02 1.73857117e+02 1.52857117e+02]\n",
            "   [1.93443710e+02 1.66800888e+02 1.48974457e+02]]]\n",
            "\n",
            "\n",
            " [[[5.66581650e+01 3.66581650e+01 1.30408173e+01]\n",
            "   [5.71428566e+01 3.61428566e+01 1.51428576e+01]\n",
            "   [5.81428604e+01 3.61428604e+01 1.51428585e+01]\n",
            "   ...\n",
            "   [5.87907448e+01 3.36376991e+01 1.32856932e+01]\n",
            "   [5.80969429e+01 3.61428719e+01 1.51428709e+01]\n",
            "   [5.60709419e+01 3.50709419e+01 1.43260679e+01]]\n",
            "\n",
            "  [[5.79540825e+01 3.69540825e+01 1.59540815e+01]\n",
            "   [5.90000000e+01 3.80000000e+01 1.70000000e+01]\n",
            "   [6.15714264e+01 3.95714264e+01 1.85714283e+01]\n",
            "   ...\n",
            "   [6.01121407e+01 3.73009758e+01 1.61428356e+01]\n",
            "   [5.98673210e+01 3.90000153e+01 1.79336739e+01]\n",
            "   [5.60658302e+01 3.79280853e+01 1.59739990e+01]]\n",
            "\n",
            "  [[5.69336739e+01 3.49336739e+01 1.39336748e+01]\n",
            "   [5.88571434e+01 3.68571434e+01 1.58571434e+01]\n",
            "   [6.05918350e+01 3.84540825e+01 1.74081631e+01]\n",
            "   ...\n",
            "   [5.85458488e+01 3.65458488e+01 1.52091484e+01]\n",
            "   [5.58571434e+01 3.78571434e+01 1.58571434e+01]\n",
            "   [5.27801170e+01 3.67801170e+01 1.37801170e+01]]\n",
            "\n",
            "  ...\n",
            "\n",
            "  [[5.75662041e+01 3.39234123e+01 1.61376762e+01]\n",
            "   [5.92855835e+01 3.66427917e+01 1.58570557e+01]\n",
            "   [6.09284401e+01 3.83315620e+01 1.52856274e+01]\n",
            "   ...\n",
            "   [6.18570557e+01 3.66427917e+01 1.44285278e+01]\n",
            "   [5.71989555e+01 3.41989555e+01 1.61989574e+01]\n",
            "   [5.65659256e+01 3.55659256e+01 1.85659256e+01]]\n",
            "\n",
            "  [[5.81887436e+01 3.74030685e+01 1.63316288e+01]\n",
            "   [5.99285583e+01 3.89285583e+01 1.79285583e+01]\n",
            "   [6.07703934e+01 4.03418236e+01 1.63418217e+01]\n",
            "   ...\n",
            "   [6.47142944e+01 3.95000305e+01 1.72857666e+01]\n",
            "   [5.90765457e+01 3.61428833e+01 1.79438705e+01]\n",
            "   [5.73567810e+01 3.43567810e+01 1.63567810e+01]]\n",
            "\n",
            "  [[5.33006248e+01 3.73006248e+01 1.45557518e+01]\n",
            "   [5.51169586e+01 3.71169586e+01 1.51169605e+01]\n",
            "   [5.56475487e+01 3.72189789e+01 1.32189770e+01]\n",
            "   ...\n",
            "   [6.14230728e+01 3.59945450e+01 1.42088089e+01]\n",
            "   [5.63568115e+01 3.43568115e+01 1.33568115e+01]\n",
            "   [5.58564453e+01 3.28564453e+01 1.48564453e+01]]]], shape=(32, 224, 224, 3), dtype=float32) tf.Tensor(\n",
            "[[1. 0. 0. 0. 0. 0. 0. 0. 0. 0.]\n",
            " [0. 0. 1. 0. 0. 0. 0. 0. 0. 0.]\n",
            " [0. 0. 0. 0. 0. 0. 0. 0. 1. 0.]\n",
            " [0. 1. 0. 0. 0. 0. 0. 0. 0. 0.]\n",
            " [0. 0. 0. 0. 0. 0. 0. 1. 0. 0.]\n",
            " [0. 0. 0. 1. 0. 0. 0. 0. 0. 0.]\n",
            " [0. 0. 0. 0. 0. 1. 0. 0. 0. 0.]\n",
            " [0. 0. 0. 0. 0. 0. 0. 0. 0. 1.]\n",
            " [0. 0. 0. 0. 0. 0. 0. 1. 0. 0.]\n",
            " [0. 0. 1. 0. 0. 0. 0. 0. 0. 0.]\n",
            " [0. 0. 0. 0. 0. 1. 0. 0. 0. 0.]\n",
            " [0. 0. 0. 0. 0. 0. 0. 0. 1. 0.]\n",
            " [0. 0. 0. 0. 0. 0. 1. 0. 0. 0.]\n",
            " [0. 0. 0. 0. 0. 1. 0. 0. 0. 0.]\n",
            " [0. 0. 0. 0. 0. 0. 1. 0. 0. 0.]\n",
            " [0. 0. 1. 0. 0. 0. 0. 0. 0. 0.]\n",
            " [0. 1. 0. 0. 0. 0. 0. 0. 0. 0.]\n",
            " [0. 0. 0. 0. 0. 0. 0. 1. 0. 0.]\n",
            " [0. 0. 0. 0. 0. 0. 0. 0. 1. 0.]\n",
            " [0. 0. 1. 0. 0. 0. 0. 0. 0. 0.]\n",
            " [0. 0. 0. 0. 1. 0. 0. 0. 0. 0.]\n",
            " [0. 0. 0. 0. 0. 0. 0. 0. 0. 1.]\n",
            " [0. 0. 0. 0. 0. 0. 0. 0. 1. 0.]\n",
            " [1. 0. 0. 0. 0. 0. 0. 0. 0. 0.]\n",
            " [0. 0. 0. 0. 1. 0. 0. 0. 0. 0.]\n",
            " [1. 0. 0. 0. 0. 0. 0. 0. 0. 0.]\n",
            " [0. 1. 0. 0. 0. 0. 0. 0. 0. 0.]\n",
            " [0. 0. 0. 1. 0. 0. 0. 0. 0. 0.]\n",
            " [0. 0. 1. 0. 0. 0. 0. 0. 0. 0.]\n",
            " [0. 0. 0. 0. 0. 0. 0. 0. 1. 0.]\n",
            " [0. 0. 0. 0. 1. 0. 0. 0. 0. 0.]\n",
            " [0. 0. 0. 0. 0. 0. 0. 1. 0. 0.]], shape=(32, 10), dtype=float32)\n"
          ]
        }
      ]
    },
    {
      "cell_type": "code",
      "source": [
        "test_data.take(1)"
      ],
      "metadata": {
        "colab": {
          "base_uri": "https://localhost:8080/"
        },
        "id": "VQCfN0ZrGQtG",
        "outputId": "0dc64d0b-523d-4c8b-b25a-04f886a80358"
      },
      "execution_count": null,
      "outputs": [
        {
          "output_type": "execute_result",
          "data": {
            "text/plain": [
              "<TakeDataset shapes: ((None, 224, 224, 3), (None, 10)), types: (tf.float32, tf.float32)>"
            ]
          },
          "metadata": {},
          "execution_count": 12
        }
      ]
    },
    {
      "cell_type": "code",
      "source": [
        "train_data_10_percent.take(10)"
      ],
      "metadata": {
        "colab": {
          "base_uri": "https://localhost:8080/"
        },
        "id": "Pbp1lB9RJbca",
        "outputId": "617a068b-161a-450a-f567-12aa58ec4f9d"
      },
      "execution_count": null,
      "outputs": [
        {
          "output_type": "execute_result",
          "data": {
            "text/plain": [
              "<TakeDataset shapes: ((None, 224, 224, 3), (None, 10)), types: (tf.float32, tf.float32)>"
            ]
          },
          "metadata": {},
          "execution_count": 13
        }
      ]
    },
    {
      "cell_type": "markdown",
      "source": [
        "## **Create a model using Functional way feature extraction**"
      ],
      "metadata": {
        "id": "3IJfOro0EVnL"
      }
    },
    {
      "cell_type": "code",
      "source": [
        "base_model=tf.keras.applications.efficientnet.EfficientNetB0(include_top=False)\n",
        "\n",
        "base_model.trainable=False\n",
        "\n",
        "# input layer\n",
        "inputs=tf.keras.layers.Input(shape=(224,224,3),name=\"input_layer\")\n",
        "\n",
        "# for rescaling (not for efficientnet used in Resnet like model)\n",
        "# x=tf.keras.experimental.preprocessing.rescaling(1./255)(inputs)\n",
        "\n",
        "x=base_model(inputs)\n",
        "\n",
        "print(f\"shape of model : {x.shape}\")\n",
        "\n",
        "# Average pooling the ouputs of base model \n",
        "# ( aggregate all the most important features and reducing computation)\n",
        "\n",
        "x=tf.keras.layers.GlobalAveragePooling2D(name=\"Average_pooling_layer\")(x)\n",
        "\n",
        "print(f\"shape after global average pooling {x.shape}\")\n",
        "\n",
        "# output layer\n",
        "\n",
        "outputs=tf.keras.layers.Dense(10,activation='softmax',name=\"output_layer\")(x)"
      ],
      "metadata": {
        "colab": {
          "base_uri": "https://localhost:8080/"
        },
        "id": "H7SLztPpDdIy",
        "outputId": "577dca97-b903-431e-effd-06bcc143812f"
      },
      "execution_count": null,
      "outputs": [
        {
          "output_type": "stream",
          "name": "stdout",
          "text": [
            "Downloading data from https://storage.googleapis.com/keras-applications/efficientnetb0_notop.h5\n",
            "16711680/16705208 [==============================] - 0s 0us/step\n",
            "16719872/16705208 [==============================] - 0s 0us/step\n",
            "shape of model : (None, 7, 7, 1280)\n",
            "shape after global average pooling (None, 1280)\n"
          ]
        }
      ]
    },
    {
      "cell_type": "code",
      "source": [
        "# combine input and output layer in a single model\n",
        "\n",
        "model_0=tf.keras.Model(inputs,outputs)"
      ],
      "metadata": {
        "id": "XxpiVEnTNQbW"
      },
      "execution_count": null,
      "outputs": []
    },
    {
      "cell_type": "code",
      "source": [
        "# compile model\n",
        "model_0.compile(loss=tf.keras.losses.CategoricalCrossentropy(),\n",
        "                optimizer='adam',\n",
        "                metrics=['accuracy'])"
      ],
      "metadata": {
        "id": "sbmNrL2AE_dO"
      },
      "execution_count": null,
      "outputs": []
    },
    {
      "cell_type": "code",
      "source": [
        "from helper_functions import create_tensorboard_callback\n",
        "\n",
        "tf.random.set_seed(42)\n",
        "\n",
        "history_0=model_0.fit(train_data_10_percent,\n",
        "                      epochs=5,\n",
        "                      validation_data=test_data,\n",
        "                      callbacks=[create_tensorboard_callback(\"records\",\"model_0\")])"
      ],
      "metadata": {
        "colab": {
          "base_uri": "https://localhost:8080/"
        },
        "id": "PktObaRnFesX",
        "outputId": "329089a2-c4f4-49a5-f3b0-3a993afd8efe"
      },
      "execution_count": null,
      "outputs": [
        {
          "output_type": "stream",
          "name": "stdout",
          "text": [
            "Saving TensorBoard log files to: records/model_0/20220128-133315\n",
            "Epoch 1/5\n"
          ]
        },
        {
          "output_type": "stream",
          "name": "stderr",
          "text": [
            "/usr/local/lib/python3.7/dist-packages/keras/engine/functional.py:1410: CustomMaskWarning: Custom mask layers require a config and must override get_config. When loading, the custom mask layer must be passed to the custom_objects argument.\n",
            "  layer_config = serialize_layer_fn(layer)\n"
          ]
        },
        {
          "output_type": "stream",
          "name": "stdout",
          "text": [
            "24/24 [==============================] - 32s 720ms/step - loss: 1.9123 - accuracy: 0.3947 - val_loss: 1.3472 - val_accuracy: 0.7168\n",
            "Epoch 2/5\n",
            "24/24 [==============================] - 14s 568ms/step - loss: 1.1494 - accuracy: 0.7493 - val_loss: 0.9231 - val_accuracy: 0.8008\n",
            "Epoch 3/5\n",
            "24/24 [==============================] - 14s 571ms/step - loss: 0.8422 - accuracy: 0.8107 - val_loss: 0.7507 - val_accuracy: 0.8256\n",
            "Epoch 4/5\n",
            "24/24 [==============================] - 14s 570ms/step - loss: 0.6863 - accuracy: 0.8427 - val_loss: 0.6663 - val_accuracy: 0.8324\n",
            "Epoch 5/5\n",
            "24/24 [==============================] - 14s 575ms/step - loss: 0.5921 - accuracy: 0.8693 - val_loss: 0.6089 - val_accuracy: 0.8452\n"
          ]
        }
      ]
    },
    {
      "cell_type": "code",
      "source": [
        "model_0.evaluate(test_data)"
      ],
      "metadata": {
        "colab": {
          "base_uri": "https://localhost:8080/"
        },
        "id": "5MDZVCBuRh_b",
        "outputId": "b7bce685-f79f-4d02-afd7-7bc7160c9676"
      },
      "execution_count": null,
      "outputs": [
        {
          "output_type": "stream",
          "name": "stdout",
          "text": [
            "79/79 [==============================] - 11s 128ms/step - loss: 0.6089 - accuracy: 0.8452\n"
          ]
        },
        {
          "output_type": "execute_result",
          "data": {
            "text/plain": [
              "[0.6088675260543823, 0.8452000021934509]"
            ]
          },
          "metadata": {},
          "execution_count": 18
        }
      ]
    },
    {
      "cell_type": "code",
      "source": [
        "model_0.summary()"
      ],
      "metadata": {
        "colab": {
          "base_uri": "https://localhost:8080/"
        },
        "id": "fNKlVdpmF1q6",
        "outputId": "e67fb31c-7ca9-422d-fbfb-d3f63f98553d"
      },
      "execution_count": null,
      "outputs": [
        {
          "output_type": "stream",
          "name": "stdout",
          "text": [
            "Model: \"model\"\n",
            "_________________________________________________________________\n",
            " Layer (type)                Output Shape              Param #   \n",
            "=================================================================\n",
            " input_layer (InputLayer)    [(None, 224, 224, 3)]     0         \n",
            "                                                                 \n",
            " efficientnetb0 (Functional)  (None, None, None, 1280)  4049571  \n",
            "                                                                 \n",
            " Average_pooling_layer (Glob  (None, 1280)             0         \n",
            " alAveragePooling2D)                                             \n",
            "                                                                 \n",
            " output_layer (Dense)        (None, 10)                12810     \n",
            "                                                                 \n",
            "=================================================================\n",
            "Total params: 4,062,381\n",
            "Trainable params: 12,810\n",
            "Non-trainable params: 4,049,571\n",
            "_________________________________________________________________\n"
          ]
        }
      ]
    },
    {
      "cell_type": "code",
      "source": [
        "from helper_functions import plot_loss_curves\n",
        "\n",
        "plot_loss_curves(history_0)"
      ],
      "metadata": {
        "colab": {
          "base_uri": "https://localhost:8080/",
          "height": 573
        },
        "id": "sO14KjOHG1kw",
        "outputId": "91ffddfd-ed25-4768-fb06-ece9a98f53c3"
      },
      "execution_count": null,
      "outputs": [
        {
          "output_type": "display_data",
          "data": {
            "image/png": "[encoded data removed]",
            "text/plain": [
              "<Figure size 432x288 with 1 Axes>"
            ]
          },
          "metadata": {
            "needs_background": "light"
          }
        },
        {
          "output_type": "display_data",
          "data": {
            "image/png": "[encoded data removed]",
            "text/plain": [
              "<Figure size 432x288 with 1 Axes>"
            ]
          },
          "metadata": {
            "needs_background": "light"
          }
        }
      ]
    },
    {
      "cell_type": "markdown",
      "source": [
        "## **Getting a feature vector from pre-trained model**"
      ],
      "metadata": {
        "id": "KhLkz70VGp_4"
      }
    },
    {
      "cell_type": "markdown",
      "source": [
        "Let 's Demonstrate the **GlobalAveragePooling2D** layer...\n",
        "What it does ❓\n",
        "\n",
        "---\n",
        "It takes a input of shape (None,7,7,1280) and give a vector of (None,1280) as output.\n",
        "\n",
        "Let's use a similar shape tensor (1,3,3,4) and pass to GlobalAveragePooling2D....\n",
        "\n",
        "\n",
        "---\n",
        "\n",
        "So We get to know that It **condense** the information to **lower dimension of feature vector**\n"
      ],
      "metadata": {
        "id": "QPBVu-gSG4xM"
      }
    },
    {
      "cell_type": "code",
      "source": [
        "input_shape=(1,3,3,4)\n",
        "\n",
        "# create a random tensor\n",
        "tf.random.set_seed(42)\n",
        "\n",
        "random_tensor=tf.random.normal(input_shape)\n",
        "random_tensor"
      ],
      "metadata": {
        "id": "ibb-_SpBR7LS",
        "colab": {
          "base_uri": "https://localhost:8080/"
        },
        "outputId": "b4d64669-fb1d-4124-b28f-9c05a4092fa0"
      },
      "execution_count": null,
      "outputs": [
        {
          "output_type": "execute_result",
          "data": {
            "text/plain": [
              "<tf.Tensor: shape=(1, 3, 3, 4), dtype=float32, numpy=\n",
              "array([[[[ 0.3274685 , -0.8426258 ,  0.3194337 , -1.4075519 ],\n",
              "         [-2.3880599 , -1.0392479 , -0.5573232 ,  0.539707  ],\n",
              "         [ 1.6994323 ,  0.28893656, -1.5066116 , -0.2645474 ]],\n",
              "\n",
              "        [[-0.59722406, -1.9171132 , -0.62044144,  0.8504023 ],\n",
              "         [-0.40604794, -3.0258412 ,  0.9058464 ,  0.29855987],\n",
              "         [-0.22561555, -0.7616443 , -1.8917141 , -0.93847126]],\n",
              "\n",
              "        [[ 0.77852213, -0.47338897,  0.97772694,  0.24694404],\n",
              "         [ 0.20573747, -0.5256233 ,  0.32410017,  0.02545409],\n",
              "         [-0.10638497, -0.6369475 ,  1.1603122 ,  0.2507359 ]]]],\n",
              "      dtype=float32)>"
            ]
          },
          "metadata": {},
          "execution_count": 21
        }
      ]
    },
    {
      "cell_type": "code",
      "source": [
        "# pass the random tensor to GlobalAveragePolling2D\n",
        "global_average_pool_tensor=tf.keras.layers.GlobalAveragePooling2D()(random_tensor)\n",
        "global_average_pool_tensor"
      ],
      "metadata": {
        "colab": {
          "base_uri": "https://localhost:8080/"
        },
        "id": "ZVEnSb-JIDlC",
        "outputId": "c4ac9284-6a60-4615-ae99-993568d2e833"
      },
      "execution_count": null,
      "outputs": [
        {
          "output_type": "execute_result",
          "data": {
            "text/plain": [
              "<tf.Tensor: shape=(1, 4), dtype=float32, numpy=\n",
              "array([[-0.0791302 , -0.9926107 , -0.09874121, -0.04430747]],\n",
              "      dtype=float32)>"
            ]
          },
          "metadata": {},
          "execution_count": 22
        }
      ]
    },
    {
      "cell_type": "code",
      "source": [
        "random_tensor.shape,global_average_pool_tensor.shape"
      ],
      "metadata": {
        "colab": {
          "base_uri": "https://localhost:8080/"
        },
        "id": "wosS4559I9yf",
        "outputId": "f16dd65e-ba35-4c7b-d7f2-08e14c751f39"
      },
      "execution_count": null,
      "outputs": [
        {
          "output_type": "execute_result",
          "data": {
            "text/plain": [
              "(TensorShape([1, 3, 3, 4]), TensorShape([1, 4]))"
            ]
          },
          "metadata": {},
          "execution_count": 23
        }
      ]
    },
    {
      "cell_type": "code",
      "source": [
        "# Let's replicate globalAveragePoolin2D layer\n",
        "tf.reduce_mean(random_tensor,axis=[1,2])"
      ],
      "metadata": {
        "colab": {
          "base_uri": "https://localhost:8080/"
        },
        "id": "cBk5ETZrJYdA",
        "outputId": "fc7f9ca1-6111-4954-f09a-434424cdea4b"
      },
      "execution_count": null,
      "outputs": [
        {
          "output_type": "execute_result",
          "data": {
            "text/plain": [
              "<tf.Tensor: shape=(1, 4), dtype=float32, numpy=\n",
              "array([[-0.0791302 , -0.9926107 , -0.09874121, -0.04430747]],\n",
              "      dtype=float32)>"
            ]
          },
          "metadata": {},
          "execution_count": 24
        }
      ]
    },
    {
      "cell_type": "markdown",
      "source": [
        "## **Experiments for Transfer Learning**\n",
        "\n",
        "1. `model_1` 🐾 feature-extraction , using 1% of training data with data augumentation\n",
        "2. `model_2` 🐾 feature-extraction , using 10% of training data eith data augumentation\n",
        "3. `model_3` 🐾 fine tuning , using 10% of training data with data augumentation\n",
        "4. `model_4` 🐾 fine tuning , using 100% of training data with data augumentation\n",
        "\n",
        "**Note** ⛓ Here in all cases testing data is same for evaluation purpose."
      ],
      "metadata": {
        "id": "l4zTVrAjMGH4"
      }
    },
    {
      "cell_type": "markdown",
      "source": [
        "### **Get Data and preprocessing data for model_1**"
      ],
      "metadata": {
        "id": "q_vrOB2eOg4y"
      }
    },
    {
      "cell_type": "code",
      "source": [
        "!wget https://storage.googleapis.com/ztm_tf_course/food_vision/10_food_classes_10_percent.zip\n",
        "\n",
        "unzip_data('10_food_classes_10_percent.zip')"
      ],
      "metadata": {
        "colab": {
          "base_uri": "https://localhost:8080/"
        },
        "id": "loqkKYG5qJcP",
        "outputId": "a9dfccf9-fc43-42ee-943c-e08513983ef9"
      },
      "execution_count": null,
      "outputs": [
        {
          "output_type": "stream",
          "name": "stdout",
          "text": [
            "--2022-01-28 13:38:03--  https://storage.googleapis.com/ztm_tf_course/food_vision/10_food_classes_10_percent.zip\n",
            "Resolving storage.googleapis.com (storage.googleapis.com)... 142.251.5.128, 74.125.133.128, 74.125.140.128, ...\n",
            "Connecting to storage.googleapis.com (storage.googleapis.com)|142.251.5.128|:443... connected.\n",
            "HTTP request sent, awaiting response... 200 OK\n",
            "Length: 168546183 (161M) [application/zip]\n",
            "Saving to: ‘10_food_classes_10_percent.zip.1’\n",
            "\n",
            "10_food_classes_10_ 100%[===================>] 160.74M   182MB/s    in 0.9s    \n",
            "\n",
            "2022-01-28 13:38:04 (182 MB/s) - ‘10_food_classes_10_percent.zip.1’ saved [168546183/168546183]\n",
            "\n"
          ]
        }
      ]
    },
    {
      "cell_type": "code",
      "source": [
        "!wget https://storage.googleapis.com/ztm_tf_course/food_vision/10_food_classes_1_percent.zip\n",
        "\n",
        "unzip_data('10_food_classes_1_percent.zip')"
      ],
      "metadata": {
        "colab": {
          "base_uri": "https://localhost:8080/"
        },
        "id": "Igu42FusKFi8",
        "outputId": "df2b45bd-b55e-41ec-f970-ffc0b3cce655"
      },
      "execution_count": null,
      "outputs": [
        {
          "output_type": "stream",
          "name": "stdout",
          "text": [
            "--2022-01-28 13:38:09--  https://storage.googleapis.com/ztm_tf_course/food_vision/10_food_classes_1_percent.zip\n",
            "Resolving storage.googleapis.com (storage.googleapis.com)... 142.251.5.128, 74.125.133.128, 74.125.140.128, ...\n",
            "Connecting to storage.googleapis.com (storage.googleapis.com)|142.251.5.128|:443... connected.\n",
            "HTTP request sent, awaiting response... 200 OK\n",
            "Length: 133612354 (127M) [application/zip]\n",
            "Saving to: ‘10_food_classes_1_percent.zip’\n",
            "\n",
            "10_food_classes_1_p 100%[===================>] 127.42M  67.4MB/s    in 1.9s    \n",
            "\n",
            "2022-01-28 13:38:11 (67.4 MB/s) - ‘10_food_classes_1_percent.zip’ saved [133612354/133612354]\n",
            "\n"
          ]
        }
      ]
    },
    {
      "cell_type": "code",
      "source": [
        "train_dir_10_percent='10_food_classes_10_percent/train'\n",
        "test_dir_10_percent='10_food_classes_10_percent/test'"
      ],
      "metadata": {
        "id": "XiSvUZ2vqOiJ"
      },
      "execution_count": null,
      "outputs": []
    },
    {
      "cell_type": "code",
      "source": [
        "train_dir_1_percent='10_food_classes_1_percent/train'\n",
        "test_dir_1_percent='10_food_classes_1_percent/test'"
      ],
      "metadata": {
        "id": "3WeNswgTO4Zf"
      },
      "execution_count": null,
      "outputs": []
    },
    {
      "cell_type": "code",
      "source": [
        "walk_through_dir('10_food_classes_1_percent')"
      ],
      "metadata": {
        "colab": {
          "base_uri": "https://localhost:8080/"
        },
        "id": "xPE9ONIzOtsv",
        "outputId": "a799c5d8-cdd7-4b04-f100-d4e58236af6c"
      },
      "execution_count": null,
      "outputs": [
        {
          "output_type": "stream",
          "name": "stdout",
          "text": [
            "There are 2 directories and 0 images in '10_food_classes_1_percent'.\n",
            "There are 10 directories and 0 images in '10_food_classes_1_percent/test'.\n",
            "There are 0 directories and 250 images in '10_food_classes_1_percent/test/pizza'.\n",
            "There are 0 directories and 250 images in '10_food_classes_1_percent/test/steak'.\n",
            "There are 0 directories and 250 images in '10_food_classes_1_percent/test/ramen'.\n",
            "There are 0 directories and 250 images in '10_food_classes_1_percent/test/ice_cream'.\n",
            "There are 0 directories and 250 images in '10_food_classes_1_percent/test/fried_rice'.\n",
            "There are 0 directories and 250 images in '10_food_classes_1_percent/test/sushi'.\n",
            "There are 0 directories and 250 images in '10_food_classes_1_percent/test/grilled_salmon'.\n",
            "There are 0 directories and 250 images in '10_food_classes_1_percent/test/hamburger'.\n",
            "There are 0 directories and 250 images in '10_food_classes_1_percent/test/chicken_curry'.\n",
            "There are 0 directories and 250 images in '10_food_classes_1_percent/test/chicken_wings'.\n",
            "There are 10 directories and 0 images in '10_food_classes_1_percent/train'.\n",
            "There are 0 directories and 7 images in '10_food_classes_1_percent/train/pizza'.\n",
            "There are 0 directories and 7 images in '10_food_classes_1_percent/train/steak'.\n",
            "There are 0 directories and 7 images in '10_food_classes_1_percent/train/ramen'.\n",
            "There are 0 directories and 7 images in '10_food_classes_1_percent/train/ice_cream'.\n",
            "There are 0 directories and 7 images in '10_food_classes_1_percent/train/fried_rice'.\n",
            "There are 0 directories and 7 images in '10_food_classes_1_percent/train/sushi'.\n",
            "There are 0 directories and 7 images in '10_food_classes_1_percent/train/grilled_salmon'.\n",
            "There are 0 directories and 7 images in '10_food_classes_1_percent/train/hamburger'.\n",
            "There are 0 directories and 7 images in '10_food_classes_1_percent/train/chicken_curry'.\n",
            "There are 0 directories and 7 images in '10_food_classes_1_percent/train/chicken_wings'.\n"
          ]
        }
      ]
    },
    {
      "cell_type": "code",
      "source": [
        "# get dataloaders\n",
        "import tensorflow as tf\n",
        "train_data_1_per=tf.keras.preprocessing.image_dataset_from_directory(train_dir_1_percent,\n",
        "                                                                    image_size=(224,224),\n",
        "                                                                    label_mode='categorical',\n",
        "                                                                    batch_size=32)\n",
        "test_data_1_per=tf.keras.preprocessing.image_dataset_from_directory(test_dir_1_percent,\n",
        "                                                                    image_size=(224,224),\n",
        "                                                                    label_mode='categorical',\n",
        "                                                                    batch_size=32\n",
        "                                                                    )\n"
      ],
      "metadata": {
        "colab": {
          "base_uri": "https://localhost:8080/"
        },
        "id": "bJ-ZfeM8PQ7c",
        "outputId": "1961cf00-cdac-429d-9885-9a3d4d7a9a53"
      },
      "execution_count": null,
      "outputs": [
        {
          "output_type": "stream",
          "name": "stdout",
          "text": [
            "Found 70 files belonging to 10 classes.\n",
            "Found 2500 files belonging to 10 classes.\n"
          ]
        }
      ]
    },
    {
      "cell_type": "code",
      "source": [
        "# get dataloaders\n",
        "import tensorflow as tf\n",
        "train_data_10_per=tf.keras.preprocessing.image_dataset_from_directory(train_dir_10_percent,\n",
        "                                                                    image_size=(224,224),\n",
        "                                                                    label_mode='categorical',\n",
        "                                                                    batch_size=32)\n",
        "test_data_10_per=tf.keras.preprocessing.image_dataset_from_directory(test_dir_10_percent,\n",
        "                                                                    image_size=(224,224),\n",
        "                                                                    label_mode='categorical',\n",
        "                                                                    batch_size=32\n",
        "                                                                    )\n"
      ],
      "metadata": {
        "colab": {
          "base_uri": "https://localhost:8080/"
        },
        "id": "Xylcx_CuqVdj",
        "outputId": "3490bd52-cea5-4723-83a2-394c6c5a5bca"
      },
      "execution_count": null,
      "outputs": [
        {
          "output_type": "stream",
          "name": "stdout",
          "text": [
            "Found 750 files belonging to 10 classes.\n",
            "Found 2500 files belonging to 10 classes.\n"
          ]
        }
      ]
    },
    {
      "cell_type": "markdown",
      "source": [
        "### **Building Data Augumentation**"
      ],
      "metadata": {
        "id": "zabB-bWwRG4_"
      }
    },
    {
      "cell_type": "markdown",
      "source": [
        "To add data augumentation there is a layer in tensorflow\n",
        "`tf.keras.layers.experimental.preprocessing()`"
      ],
      "metadata": {
        "id": "bVXsZE_8Zx6q"
      }
    },
    {
      "cell_type": "markdown",
      "source": [
        "**Advantages to do data augumentation in model** 🐾\n",
        "1. Data augumented by `ImageDataGenerator()` is preprocessed on CPU but by this method data augumentation is processed on GPU so It will compute fastly..\n",
        "\n",
        "2. Data Augumentation is perform during trainig phase so this can be saved with model to use some where else.."
      ],
      "metadata": {
        "id": "Vc-CK_9ncto2"
      }
    },
    {
      "cell_type": "code",
      "source": [
        "import tensorflow as tf\n",
        "from tensorflow.keras.layers.experimental import preprocessing\n",
        "from tensorflow.keras import layers"
      ],
      "metadata": {
        "id": "DWY6C8cmQfQV"
      },
      "execution_count": null,
      "outputs": []
    },
    {
      "cell_type": "code",
      "source": [
        "# Data Augumented as rotated,flipped,cropped..\n",
        "\n",
        "Data_augumentaion=tf.keras.Sequential([\n",
        "  preprocessing.RandomFlip('horizontal'),\n",
        "  preprocessing.RandomRotation(0.2),\n",
        "  preprocessing.RandomZoom(0.2),\n",
        "  preprocessing.RandomHeight(0.2),\n",
        "  preprocessing.RandomWidth(0.2)\n",
        "],name=\"data_augumentation\")\n"
      ],
      "metadata": {
        "id": "3f969ciban9d"
      },
      "execution_count": null,
      "outputs": []
    },
    {
      "cell_type": "markdown",
      "source": [
        "### **Let's Visualize what happen to our data**"
      ],
      "metadata": {
        "id": "j8DlqzbTdkCZ"
      }
    },
    {
      "cell_type": "code",
      "source": [
        "# let's view for random image\n",
        "import matplotlib.pyplot as plt\n",
        "import matplotlib.image as mpimg\n",
        "import random\n",
        "import os"
      ],
      "metadata": {
        "id": "CLfYyR9GdjJX"
      },
      "execution_count": null,
      "outputs": []
    },
    {
      "cell_type": "code",
      "source": [
        "target_classes=train_data_1_per.class_names\n",
        "target_classes"
      ],
      "metadata": {
        "colab": {
          "base_uri": "https://localhost:8080/"
        },
        "id": "7iiUx5MRdyOT",
        "outputId": "5c39ce84-06d0-4f2c-8518-0e2bc3365c84"
      },
      "execution_count": null,
      "outputs": [
        {
          "output_type": "execute_result",
          "data": {
            "text/plain": [
              "['chicken_curry',\n",
              " 'chicken_wings',\n",
              " 'fried_rice',\n",
              " 'grilled_salmon',\n",
              " 'hamburger',\n",
              " 'ice_cream',\n",
              " 'pizza',\n",
              " 'ramen',\n",
              " 'steak',\n",
              " 'sushi']"
            ]
          },
          "metadata": {},
          "execution_count": 35
        }
      ]
    },
    {
      "cell_type": "code",
      "source": [
        "def plot_random_image():\n",
        "  target_class=random.choice(target_classes)\n",
        "  target_path='10_food_classes_1_percent/train'+\"/\"+target_class\n",
        "  random_img=random.choice(os.listdir(target_path))\n",
        "  image_path=target_path+\"/\"+random_img\n",
        "\n",
        "  print(image_path)\n",
        "\n",
        "  image=plt.imread(image_path)\n",
        "  plt.imshow(image)\n",
        "  plt.title(\"Original:\"+target_class)\n",
        "  plt.axis(\"off\")\n",
        "\n",
        "  # Augumented image\n",
        "  augumented_img=Data_augumentaion(tf.expand_dims(image,axis=0))\n",
        "  plt.figure()\n",
        "  plt.imshow(tf.squeeze(augumented_img)/255.)\n",
        "  plt.title(\"Augumented :\"+target_class)\n",
        "  plt.axis('off')\n",
        "\n",
        "\n",
        "\n"
      ],
      "metadata": {
        "id": "7PcpOuU_ewgj"
      },
      "execution_count": null,
      "outputs": []
    },
    {
      "cell_type": "code",
      "source": [
        "plot_random_image()"
      ],
      "metadata": {
        "colab": {
          "base_uri": "https://localhost:8080/",
          "height": 529
        },
        "id": "GnA8ZjOqe0U8",
        "outputId": "f465a644-b176-4333-c595-081647b2b34f"
      },
      "execution_count": null,
      "outputs": [
        {
          "output_type": "stream",
          "name": "stdout",
          "text": [
            "10_food_classes_1_percent/train/sushi/2932846.jpg\n"
          ]
        },
        {
          "output_type": "display_data",
          "data": {
            "image/png": "[encoded data removed]",
            "text/plain": [
              "<Figure size 432x288 with 1 Axes>"
            ]
          },
          "metadata": {
            "needs_background": "light"
          }
        },
        {
          "output_type": "display_data",
          "data": {
            "image/png": "[encoded data removed]",
            "text/plain": [
              "<Figure size 432x288 with 1 Axes>"
            ]
          },
          "metadata": {
            "needs_background": "light"
          }
        }
      ]
    },
    {
      "cell_type": "markdown",
      "source": [
        "## **Building a model_1 :**\n",
        "**feature extraction: 1% of data and data augumentation**"
      ],
      "metadata": {
        "id": "9TAMISG7i6qj"
      }
    },
    {
      "cell_type": "code",
      "source": [
        "input_shape=(224,224,3)\n",
        "\n",
        "# base model\n",
        "base_model=tf.keras.applications.efficientnet.EfficientNetB0(include_top=False)\n",
        "\n",
        "base_model.trainable=False\n",
        "\n",
        "# input_layers\n",
        "input=tf.keras.layers.Input(shape=input_shape,name='input_layer')\n",
        "\n",
        "x=Data_augumentaion(input)\n",
        "\n",
        "x=base_model(x,training=False)\n",
        "\n",
        "print(\"shape before globalAveragePooling :\",x.shape)\n",
        "x=tf.keras.layers.GlobalAveragePooling2D(name=\"global_Average_pooling_layer\")(x)\n",
        "print(\"shape after globalAveragePooling :\",x.shape)\n",
        "\n",
        "output=tf.keras.layers.Dense(10,activation='softmax',name='softmax')(x)\n",
        "\n",
        "# combine all layer into a model\n",
        "model_1=tf.keras.Model(input,output)\n",
        "\n",
        "# compile the model\n",
        "model_1.compile(loss=tf.keras.losses.BinaryCrossentropy(),\n",
        "                optimizer='adam',\n",
        "                metrics=['accuracy'])\n",
        "\n",
        "# fit the data into model\n",
        "history_1=model_1.fit(train_data_1_per,\n",
        "                      epochs=5,\n",
        "                      validation_data=test_data_1_per,\n",
        "                      steps_per_epoch=len(train_data_1_per),\n",
        "                      validation_steps=len(test_data_1_per),\n",
        "                      callbacks=[create_tensorboard_callback('records','1%_data_augmented')])\n",
        "\n"
      ],
      "metadata": {
        "colab": {
          "base_uri": "https://localhost:8080/"
        },
        "id": "zkTmjXHlgUDJ",
        "outputId": "6c0705dd-fb04-49b5-beac-4dec98874015"
      },
      "execution_count": null,
      "outputs": [
        {
          "output_type": "stream",
          "name": "stdout",
          "text": [
            "shape before globalAveragePooling : (None, None, None, 1280)\n",
            "shape after globalAveragePooling : (None, 1280)\n",
            "Saving TensorBoard log files to: records/1%_data_augmented/20220128-134130\n",
            "Epoch 1/5\n"
          ]
        },
        {
          "output_type": "stream",
          "name": "stderr",
          "text": [
            "/usr/local/lib/python3.7/dist-packages/keras/engine/functional.py:1410: CustomMaskWarning: Custom mask layers require a config and must override get_config. When loading, the custom mask layer must be passed to the custom_objects argument.\n",
            "  layer_config = serialize_layer_fn(layer)\n"
          ]
        },
        {
          "output_type": "stream",
          "name": "stdout",
          "text": [
            "3/3 [==============================] - 21s 6s/step - loss: 0.7272 - accuracy: 0.1143 - val_loss: 0.6119 - val_accuracy: 0.1220\n",
            "Epoch 2/5\n",
            "3/3 [==============================] - 22s 11s/step - loss: 0.5821 - accuracy: 0.1429 - val_loss: 0.5118 - val_accuracy: 0.1400\n",
            "Epoch 3/5\n",
            "3/3 [==============================] - 12s 6s/step - loss: 0.4784 - accuracy: 0.2143 - val_loss: 0.4405 - val_accuracy: 0.1680\n",
            "Epoch 4/5\n",
            "3/3 [==============================] - 12s 6s/step - loss: 0.4084 - accuracy: 0.2143 - val_loss: 0.3920 - val_accuracy: 0.1984\n",
            "Epoch 5/5\n",
            "3/3 [==============================] - 12s 6s/step - loss: 0.3531 - accuracy: 0.3000 - val_loss: 0.3601 - val_accuracy: 0.2368\n"
          ]
        }
      ]
    },
    {
      "cell_type": "code",
      "source": [
        "model_1.summary()"
      ],
      "metadata": {
        "colab": {
          "base_uri": "https://localhost:8080/"
        },
        "id": "85lHQ6qbmrwo",
        "outputId": "aca97b00-fb2a-43c9-bac5-31853c4d1476"
      },
      "execution_count": null,
      "outputs": [
        {
          "output_type": "stream",
          "name": "stdout",
          "text": [
            "Model: \"model_1\"\n",
            "_________________________________________________________________\n",
            " Layer (type)                Output Shape              Param #   \n",
            "=================================================================\n",
            " input_layer (InputLayer)    [(None, 224, 224, 3)]     0         \n",
            "                                                                 \n",
            " data_augumentation (Sequent  (None, None, None, 3)    0         \n",
            " ial)                                                            \n",
            "                                                                 \n",
            " efficientnetb0 (Functional)  (None, None, None, 1280)  4049571  \n",
            "                                                                 \n",
            " global_Average_pooling_laye  (None, 1280)             0         \n",
            " r (GlobalAveragePooling2D)                                      \n",
            "                                                                 \n",
            " softmax (Dense)             (None, 10)                12810     \n",
            "                                                                 \n",
            "=================================================================\n",
            "Total params: 4,062,381\n",
            "Trainable params: 12,810\n",
            "Non-trainable params: 4,049,571\n",
            "_________________________________________________________________\n"
          ]
        }
      ]
    },
    {
      "cell_type": "code",
      "source": [
        "plot_loss_curves(history_1)"
      ],
      "metadata": {
        "colab": {
          "base_uri": "https://localhost:8080/",
          "height": 573
        },
        "id": "sr3QyZ4foIkH",
        "outputId": "65ddfb3d-0567-4e7f-e8fb-36430f0ef95c"
      },
      "execution_count": null,
      "outputs": [
        {
          "output_type": "display_data",
          "data": {
            "image/png": "[encoded data removed]",
            "text/plain": [
              "<Figure size 432x288 with 1 Axes>"
            ]
          },
          "metadata": {
            "needs_background": "light"
          }
        },
        {
          "output_type": "display_data",
          "data": {
            "image/png": "[encoded data removed]",
            "text/plain": [
              "<Figure size 432x288 with 1 Axes>"
            ]
          },
          "metadata": {
            "needs_background": "light"
          }
        }
      ]
    },
    {
      "cell_type": "code",
      "source": [
        "from helper_functions import plot_loss_curves"
      ],
      "metadata": {
        "id": "4H1NUuldoLrb"
      },
      "execution_count": null,
      "outputs": []
    },
    {
      "cell_type": "markdown",
      "source": [
        "## **Building a model_2:**\n",
        "\n",
        "**feature extraction with 10% of data and data augumentation**"
      ],
      "metadata": {
        "id": "2qbJfO-VokET"
      }
    },
    {
      "cell_type": "code",
      "source": [
        "base_model=tf.keras.applications.efficientnet.EfficientNetB0(include_top=False)\n",
        "\n",
        "base_model.trainable=False\n",
        "\n",
        "input=tf.keras.layers.Input(shape=input_shape,name='input_layer')\n",
        "\n",
        "x=Data_augumentaion(input)\n",
        "\n",
        "x=base_model(input,training=False)\n",
        "\n",
        "x=tf.keras.layers.GlobalAveragePooling2D(name='global_average_pooling_layer')(x)\n",
        "\n",
        "output=tf.keras.layers.Dense(10,activation='softmax')(x)\n",
        "\n",
        "model_2=tf.keras.Model(input,output)\n",
        "\n",
        "model_2.compile(loss='binary_crossentropy',\n",
        "                optimizer='adam',\n",
        "                metrics=['accuracy'])\n",
        "\n",
        "history_2=model_2.fit(train_data_10_per,\n",
        "                      epochs=5,\n",
        "                      validation_data=test_data_10_per,\n",
        "                      steps_per_epoch=len(train_data_10_per),\n",
        "                      validation_steps=int(0.25*len(test_data_10_per)))"
      ],
      "metadata": {
        "colab": {
          "base_uri": "https://localhost:8080/"
        },
        "id": "XYFlDIXWoWeB",
        "outputId": "75f79528-f6d0-4d3d-adcd-089dd4fd579b"
      },
      "execution_count": null,
      "outputs": [
        {
          "output_type": "stream",
          "name": "stdout",
          "text": [
            "Epoch 1/5\n",
            "24/24 [==============================] - 15s 339ms/step - loss: 0.4170 - accuracy: 0.2760 - val_loss: 0.2788 - val_accuracy: 0.5740\n",
            "Epoch 2/5\n",
            "24/24 [==============================] - 7s 269ms/step - loss: 0.2540 - accuracy: 0.6653 - val_loss: 0.2167 - val_accuracy: 0.7845\n",
            "Epoch 3/5\n",
            "24/24 [==============================] - 7s 266ms/step - loss: 0.2044 - accuracy: 0.7640 - val_loss: 0.1795 - val_accuracy: 0.8207\n",
            "Epoch 4/5\n",
            "24/24 [==============================] - 7s 270ms/step - loss: 0.1749 - accuracy: 0.8093 - val_loss: 0.1616 - val_accuracy: 0.8339\n",
            "Epoch 5/5\n",
            "24/24 [==============================] - 7s 275ms/step - loss: 0.1556 - accuracy: 0.8253 - val_loss: 0.1451 - val_accuracy: 0.8586\n"
          ]
        }
      ]
    },
    {
      "cell_type": "code",
      "source": [
        "model_2.summary()"
      ],
      "metadata": {
        "colab": {
          "base_uri": "https://localhost:8080/"
        },
        "id": "7dDlvHn1qaMC",
        "outputId": "8f168761-fc72-4bdd-d20e-db888d470508"
      },
      "execution_count": null,
      "outputs": [
        {
          "output_type": "stream",
          "name": "stdout",
          "text": [
            "Model: \"model_5\"\n",
            "_________________________________________________________________\n",
            " Layer (type)                Output Shape              Param #   \n",
            "=================================================================\n",
            " input_layer (InputLayer)    [(None, 224, 224, 3)]     0         \n",
            "                                                                 \n",
            " efficientnetb0 (Functional)  (None, None, None, 1280)  4049571  \n",
            "                                                                 \n",
            " global_average_pooling_laye  (None, 1280)             0         \n",
            " r (GlobalAveragePooling2D)                                      \n",
            "                                                                 \n",
            " dense_3 (Dense)             (None, 10)                12810     \n",
            "                                                                 \n",
            "=================================================================\n",
            "Total params: 4,062,381\n",
            "Trainable params: 12,810\n",
            "Non-trainable params: 4,049,571\n",
            "_________________________________________________________________\n"
          ]
        }
      ]
    },
    {
      "cell_type": "code",
      "source": [
        "result_model_10_per=model_2.evaluate(test_data_10_per)"
      ],
      "metadata": {
        "colab": {
          "base_uri": "https://localhost:8080/"
        },
        "id": "azYl9e3drdeL",
        "outputId": "62518939-633f-46db-9579-d83a3240e9d0"
      },
      "execution_count": null,
      "outputs": [
        {
          "output_type": "stream",
          "name": "stdout",
          "text": [
            "79/79 [==============================] - 11s 131ms/step - loss: 0.1516 - accuracy: 0.8280\n"
          ]
        }
      ]
    },
    {
      "cell_type": "code",
      "source": [
        "plot_loss_curves(history_2)"
      ],
      "metadata": {
        "colab": {
          "base_uri": "https://localhost:8080/",
          "height": 573
        },
        "id": "1TPc0YZyri6F",
        "outputId": "b2631e41-96d7-4004-931a-d69f2d89c35a"
      },
      "execution_count": null,
      "outputs": [
        {
          "output_type": "display_data",
          "data": {
            "image/png": "[encoded data removed]",
            "text/plain": [
              "<Figure size 432x288 with 1 Axes>"
            ]
          },
          "metadata": {
            "needs_background": "light"
          }
        },
        {
          "output_type": "display_data",
          "data": {
            "image/png": "[encoded data removed]",
            "text/plain": [
              "<Figure size 432x288 with 1 Axes>"
            ]
          },
          "metadata": {
            "needs_background": "light"
          }
        }
      ]
    },
    {
      "cell_type": "markdown",
      "source": [
        "### **Creating a modelCheckPoint callback**\n",
        "\n",
        "intermidately save our model so it can starts at that point later on..every epoch"
      ],
      "metadata": {
        "id": "jE0xi4cQwHwN"
      }
    },
    {
      "cell_type": "code",
      "source": [
        "checkpoint_path='10_percent_checkpoints/checkpoint.ckpt'\n",
        "\n",
        "checkpoint_callback=tf.keras.callbacks.ModelCheckpoint(filepath=checkpoint_path,\n",
        "                                                       save_weights_only=True,\n",
        "                                                       save_freq='epoch',\n",
        "                                                       verbose=1)\n"
      ],
      "metadata": {
        "id": "nxPedT7crmFV"
      },
      "execution_count": null,
      "outputs": []
    },
    {
      "cell_type": "code",
      "source": [
        "history_2=model_2.fit(train_data_10_per,\n",
        "                      epochs=5,\n",
        "                      validation_data=test_data_10_per,\n",
        "                      validation_steps=len(test_data_10_per),\n",
        "                      steps_per_epoch=len(train_data_10_per),\n",
        "                      callbacks=[checkpoint_callback])"
      ],
      "metadata": {
        "colab": {
          "base_uri": "https://localhost:8080/"
        },
        "id": "BORtzsh-xaNx",
        "outputId": "dd9608b1-8d5f-4b89-c1f1-50c8047df8f3"
      },
      "execution_count": null,
      "outputs": [
        {
          "output_type": "stream",
          "name": "stdout",
          "text": [
            "Epoch 1/5\n",
            "24/24 [==============================] - ETA: 0s - loss: 0.1409 - accuracy: 0.8587\n",
            "Epoch 00001: saving model to 10_percent_checkpoints/checkpoint.ckpt\n",
            "24/24 [==============================] - 14s 592ms/step - loss: 0.1409 - accuracy: 0.8587 - val_loss: 0.1414 - val_accuracy: 0.8284\n",
            "Epoch 2/5\n",
            "24/24 [==============================] - ETA: 0s - loss: 0.1297 - accuracy: 0.8653\n",
            "Epoch 00002: saving model to 10_percent_checkpoints/checkpoint.ckpt\n",
            "24/24 [==============================] - 14s 596ms/step - loss: 0.1297 - accuracy: 0.8653 - val_loss: 0.1340 - val_accuracy: 0.8360\n",
            "Epoch 3/5\n",
            "24/24 [==============================] - ETA: 0s - loss: 0.1201 - accuracy: 0.8800\n",
            "Epoch 00003: saving model to 10_percent_checkpoints/checkpoint.ckpt\n",
            "24/24 [==============================] - 14s 592ms/step - loss: 0.1201 - accuracy: 0.8800 - val_loss: 0.1279 - val_accuracy: 0.8424\n",
            "Epoch 4/5\n",
            "24/24 [==============================] - ETA: 0s - loss: 0.1123 - accuracy: 0.8920\n",
            "Epoch 00004: saving model to 10_percent_checkpoints/checkpoint.ckpt\n",
            "24/24 [==============================] - 14s 592ms/step - loss: 0.1123 - accuracy: 0.8920 - val_loss: 0.1232 - val_accuracy: 0.8436\n",
            "Epoch 5/5\n",
            "24/24 [==============================] - ETA: 0s - loss: 0.1056 - accuracy: 0.9027\n",
            "Epoch 00005: saving model to 10_percent_checkpoints/checkpoint.ckpt\n",
            "24/24 [==============================] - 14s 592ms/step - loss: 0.1056 - accuracy: 0.9027 - val_loss: 0.1188 - val_accuracy: 0.8464\n"
          ]
        }
      ]
    },
    {
      "cell_type": "code",
      "source": [
        "result_model_10_per=model_2.evaluate(test_data_10_per)"
      ],
      "metadata": {
        "colab": {
          "base_uri": "https://localhost:8080/"
        },
        "id": "X4VoJfLQxy_S",
        "outputId": "11d20b3d-7105-4600-aff0-7407933e9690"
      },
      "execution_count": null,
      "outputs": [
        {
          "output_type": "stream",
          "name": "stdout",
          "text": [
            "79/79 [==============================] - 11s 133ms/step - loss: 0.1188 - accuracy: 0.8464\n"
          ]
        }
      ]
    },
    {
      "cell_type": "code",
      "source": [
        "plot_loss_curves(history_2)"
      ],
      "metadata": {
        "colab": {
          "base_uri": "https://localhost:8080/",
          "height": 573
        },
        "id": "S0Rz0C2PzE3t",
        "outputId": "30324e89-6619-4404-b584-67bde44e9cfe"
      },
      "execution_count": null,
      "outputs": [
        {
          "output_type": "display_data",
          "data": {
            "image/png": "[encoded data removed]",
            "text/plain": [
              "<Figure size 432x288 with 1 Axes>"
            ]
          },
          "metadata": {
            "needs_background": "light"
          }
        },
        {
          "output_type": "display_data",
          "data": {
            "image/png": "[encoded data removed]",
            "text/plain": [
              "<Figure size 432x288 with 1 Axes>"
            ]
          },
          "metadata": {
            "needs_background": "light"
          }
        }
      ]
    },
    {
      "cell_type": "markdown",
      "source": [
        "### **Loading in checkpoints**"
      ],
      "metadata": {
        "id": "YeJphvirzvSb"
      }
    },
    {
      "cell_type": "code",
      "source": [
        "model_2.load_weights(checkpoint_path)"
      ],
      "metadata": {
        "colab": {
          "base_uri": "https://localhost:8080/"
        },
        "id": "a0HV5LJzzKtY",
        "outputId": "3e19a8c8-10b1-4927-9dae-1854f34d7279"
      },
      "execution_count": null,
      "outputs": [
        {
          "output_type": "execute_result",
          "data": {
            "text/plain": [
              "<tensorflow.python.training.tracking.util.CheckpointLoadStatus at 0x7f306b413650>"
            ]
          },
          "metadata": {},
          "execution_count": 107
        }
      ]
    },
    {
      "cell_type": "code",
      "source": [
        "model_2.evaluate(test_data_10_per)"
      ],
      "metadata": {
        "colab": {
          "base_uri": "https://localhost:8080/"
        },
        "id": "Q-eN-vEe0Biw",
        "outputId": "7026e43c-5b49-4f44-9c9d-c85e7789b257"
      },
      "execution_count": null,
      "outputs": [
        {
          "output_type": "stream",
          "name": "stdout",
          "text": [
            "79/79 [==============================] - 11s 130ms/step - loss: 0.1191 - accuracy: 0.8568\n"
          ]
        },
        {
          "output_type": "execute_result",
          "data": {
            "text/plain": [
              "[0.11913607269525528, 0.8568000197410583]"
            ]
          },
          "metadata": {},
          "execution_count": 108
        }
      ]
    },
    {
      "cell_type": "markdown",
      "source": [
        "## **Building a model_3 :**\n",
        "\n",
        "\n",
        "🔑 before **fine tunning** our model should be trained in **feture-extractor** manner to get good results..\n",
        "\n",
        "\n",
        "**fine tunning of model_2**\n",
        "\n",
        "here we are going to make changes in model_2 by fine tunning"
      ],
      "metadata": {
        "id": "iuDDjJhR8LPz"
      }
    },
    {
      "cell_type": "code",
      "source": [
        "model_2.layers"
      ],
      "metadata": {
        "id": "ggOzvOrt0FZP",
        "colab": {
          "base_uri": "https://localhost:8080/"
        },
        "outputId": "b935d938-d0c2-4131-eb90-6de9b7e95dbf"
      },
      "execution_count": null,
      "outputs": [
        {
          "output_type": "execute_result",
          "data": {
            "text/plain": [
              "[<keras.engine.input_layer.InputLayer at 0x7f306b18ce10>,\n",
              " <keras.engine.functional.Functional at 0x7f306ad41f10>,\n",
              " <keras.layers.pooling.GlobalAveragePooling2D at 0x7f306b18ca10>,\n",
              " <keras.layers.core.dense.Dense at 0x7f306ad37810>]"
            ]
          },
          "metadata": {},
          "execution_count": 109
        }
      ]
    },
    {
      "cell_type": "code",
      "source": [
        "for i,layer in enumerate(model_2.layers[1].layers):\n",
        "  print(i,layer.name,layer.trainable)"
      ],
      "metadata": {
        "colab": {
          "base_uri": "https://localhost:8080/"
        },
        "id": "4teD5enu831N",
        "outputId": "8095e353-c37f-40fe-dc4d-15aaf6591347"
      },
      "execution_count": null,
      "outputs": [
        {
          "output_type": "stream",
          "name": "stdout",
          "text": [
            "0 input_4 False\n",
            "1 rescaling_3 False\n",
            "2 normalization_3 False\n",
            "3 stem_conv_pad False\n",
            "4 stem_conv False\n",
            "5 stem_bn False\n",
            "6 stem_activation False\n",
            "7 block1a_dwconv False\n",
            "8 block1a_bn False\n",
            "9 block1a_activation False\n",
            "10 block1a_se_squeeze False\n",
            "11 block1a_se_reshape False\n",
            "12 block1a_se_reduce False\n",
            "13 block1a_se_expand False\n",
            "14 block1a_se_excite False\n",
            "15 block1a_project_conv False\n",
            "16 block1a_project_bn False\n",
            "17 block2a_expand_conv False\n",
            "18 block2a_expand_bn False\n",
            "19 block2a_expand_activation False\n",
            "20 block2a_dwconv_pad False\n",
            "21 block2a_dwconv False\n",
            "22 block2a_bn False\n",
            "23 block2a_activation False\n",
            "24 block2a_se_squeeze False\n",
            "25 block2a_se_reshape False\n",
            "26 block2a_se_reduce False\n",
            "27 block2a_se_expand False\n",
            "28 block2a_se_excite False\n",
            "29 block2a_project_conv False\n",
            "30 block2a_project_bn False\n",
            "31 block2b_expand_conv False\n",
            "32 block2b_expand_bn False\n",
            "33 block2b_expand_activation False\n",
            "34 block2b_dwconv False\n",
            "35 block2b_bn False\n",
            "36 block2b_activation False\n",
            "37 block2b_se_squeeze False\n",
            "38 block2b_se_reshape False\n",
            "39 block2b_se_reduce False\n",
            "40 block2b_se_expand False\n",
            "41 block2b_se_excite False\n",
            "42 block2b_project_conv False\n",
            "43 block2b_project_bn False\n",
            "44 block2b_drop False\n",
            "45 block2b_add False\n",
            "46 block3a_expand_conv False\n",
            "47 block3a_expand_bn False\n",
            "48 block3a_expand_activation False\n",
            "49 block3a_dwconv_pad False\n",
            "50 block3a_dwconv False\n",
            "51 block3a_bn False\n",
            "52 block3a_activation False\n",
            "53 block3a_se_squeeze False\n",
            "54 block3a_se_reshape False\n",
            "55 block3a_se_reduce False\n",
            "56 block3a_se_expand False\n",
            "57 block3a_se_excite False\n",
            "58 block3a_project_conv False\n",
            "59 block3a_project_bn False\n",
            "60 block3b_expand_conv False\n",
            "61 block3b_expand_bn False\n",
            "62 block3b_expand_activation False\n",
            "63 block3b_dwconv False\n",
            "64 block3b_bn False\n",
            "65 block3b_activation False\n",
            "66 block3b_se_squeeze False\n",
            "67 block3b_se_reshape False\n",
            "68 block3b_se_reduce False\n",
            "69 block3b_se_expand False\n",
            "70 block3b_se_excite False\n",
            "71 block3b_project_conv False\n",
            "72 block3b_project_bn False\n",
            "73 block3b_drop False\n",
            "74 block3b_add False\n",
            "75 block4a_expand_conv False\n",
            "76 block4a_expand_bn False\n",
            "77 block4a_expand_activation False\n",
            "78 block4a_dwconv_pad False\n",
            "79 block4a_dwconv False\n",
            "80 block4a_bn False\n",
            "81 block4a_activation False\n",
            "82 block4a_se_squeeze False\n",
            "83 block4a_se_reshape False\n",
            "84 block4a_se_reduce False\n",
            "85 block4a_se_expand False\n",
            "86 block4a_se_excite False\n",
            "87 block4a_project_conv False\n",
            "88 block4a_project_bn False\n",
            "89 block4b_expand_conv False\n",
            "90 block4b_expand_bn False\n",
            "91 block4b_expand_activation False\n",
            "92 block4b_dwconv False\n",
            "93 block4b_bn False\n",
            "94 block4b_activation False\n",
            "95 block4b_se_squeeze False\n",
            "96 block4b_se_reshape False\n",
            "97 block4b_se_reduce False\n",
            "98 block4b_se_expand False\n",
            "99 block4b_se_excite False\n",
            "100 block4b_project_conv False\n",
            "101 block4b_project_bn False\n",
            "102 block4b_drop False\n",
            "103 block4b_add False\n",
            "104 block4c_expand_conv False\n",
            "105 block4c_expand_bn False\n",
            "106 block4c_expand_activation False\n",
            "107 block4c_dwconv False\n",
            "108 block4c_bn False\n",
            "109 block4c_activation False\n",
            "110 block4c_se_squeeze False\n",
            "111 block4c_se_reshape False\n",
            "112 block4c_se_reduce False\n",
            "113 block4c_se_expand False\n",
            "114 block4c_se_excite False\n",
            "115 block4c_project_conv False\n",
            "116 block4c_project_bn False\n",
            "117 block4c_drop False\n",
            "118 block4c_add False\n",
            "119 block5a_expand_conv False\n",
            "120 block5a_expand_bn False\n",
            "121 block5a_expand_activation False\n",
            "122 block5a_dwconv False\n",
            "123 block5a_bn False\n",
            "124 block5a_activation False\n",
            "125 block5a_se_squeeze False\n",
            "126 block5a_se_reshape False\n",
            "127 block5a_se_reduce False\n",
            "128 block5a_se_expand False\n",
            "129 block5a_se_excite False\n",
            "130 block5a_project_conv False\n",
            "131 block5a_project_bn False\n",
            "132 block5b_expand_conv False\n",
            "133 block5b_expand_bn False\n",
            "134 block5b_expand_activation False\n",
            "135 block5b_dwconv False\n",
            "136 block5b_bn False\n",
            "137 block5b_activation False\n",
            "138 block5b_se_squeeze False\n",
            "139 block5b_se_reshape False\n",
            "140 block5b_se_reduce False\n",
            "141 block5b_se_expand False\n",
            "142 block5b_se_excite False\n",
            "143 block5b_project_conv False\n",
            "144 block5b_project_bn False\n",
            "145 block5b_drop False\n",
            "146 block5b_add False\n",
            "147 block5c_expand_conv False\n",
            "148 block5c_expand_bn False\n",
            "149 block5c_expand_activation False\n",
            "150 block5c_dwconv False\n",
            "151 block5c_bn False\n",
            "152 block5c_activation False\n",
            "153 block5c_se_squeeze False\n",
            "154 block5c_se_reshape False\n",
            "155 block5c_se_reduce False\n",
            "156 block5c_se_expand False\n",
            "157 block5c_se_excite False\n",
            "158 block5c_project_conv False\n",
            "159 block5c_project_bn False\n",
            "160 block5c_drop False\n",
            "161 block5c_add False\n",
            "162 block6a_expand_conv False\n",
            "163 block6a_expand_bn False\n",
            "164 block6a_expand_activation False\n",
            "165 block6a_dwconv_pad False\n",
            "166 block6a_dwconv False\n",
            "167 block6a_bn False\n",
            "168 block6a_activation False\n",
            "169 block6a_se_squeeze False\n",
            "170 block6a_se_reshape False\n",
            "171 block6a_se_reduce False\n",
            "172 block6a_se_expand False\n",
            "173 block6a_se_excite False\n",
            "174 block6a_project_conv False\n",
            "175 block6a_project_bn False\n",
            "176 block6b_expand_conv False\n",
            "177 block6b_expand_bn False\n",
            "178 block6b_expand_activation False\n",
            "179 block6b_dwconv False\n",
            "180 block6b_bn False\n",
            "181 block6b_activation False\n",
            "182 block6b_se_squeeze False\n",
            "183 block6b_se_reshape False\n",
            "184 block6b_se_reduce False\n",
            "185 block6b_se_expand False\n",
            "186 block6b_se_excite False\n",
            "187 block6b_project_conv False\n",
            "188 block6b_project_bn False\n",
            "189 block6b_drop False\n",
            "190 block6b_add False\n",
            "191 block6c_expand_conv False\n",
            "192 block6c_expand_bn False\n",
            "193 block6c_expand_activation False\n",
            "194 block6c_dwconv False\n",
            "195 block6c_bn False\n",
            "196 block6c_activation False\n",
            "197 block6c_se_squeeze False\n",
            "198 block6c_se_reshape False\n",
            "199 block6c_se_reduce False\n",
            "200 block6c_se_expand False\n",
            "201 block6c_se_excite False\n",
            "202 block6c_project_conv False\n",
            "203 block6c_project_bn False\n",
            "204 block6c_drop False\n",
            "205 block6c_add False\n",
            "206 block6d_expand_conv False\n",
            "207 block6d_expand_bn False\n",
            "208 block6d_expand_activation False\n",
            "209 block6d_dwconv False\n",
            "210 block6d_bn False\n",
            "211 block6d_activation False\n",
            "212 block6d_se_squeeze False\n",
            "213 block6d_se_reshape False\n",
            "214 block6d_se_reduce False\n",
            "215 block6d_se_expand False\n",
            "216 block6d_se_excite False\n",
            "217 block6d_project_conv False\n",
            "218 block6d_project_bn False\n",
            "219 block6d_drop False\n",
            "220 block6d_add False\n",
            "221 block7a_expand_conv False\n",
            "222 block7a_expand_bn False\n",
            "223 block7a_expand_activation False\n",
            "224 block7a_dwconv False\n",
            "225 block7a_bn False\n",
            "226 block7a_activation False\n",
            "227 block7a_se_squeeze False\n",
            "228 block7a_se_reshape False\n",
            "229 block7a_se_reduce False\n",
            "230 block7a_se_expand False\n",
            "231 block7a_se_excite False\n",
            "232 block7a_project_conv False\n",
            "233 block7a_project_bn False\n",
            "234 top_conv False\n",
            "235 top_bn False\n",
            "236 top_activation False\n"
          ]
        }
      ]
    },
    {
      "cell_type": "markdown",
      "source": [
        "**let's tune last 10 layers of base_model**"
      ],
      "metadata": {
        "id": "agPkjv669lCd"
      }
    },
    {
      "cell_type": "code",
      "source": [
        "base_model.trainable=True\n",
        "\n",
        "for layer in base_model.layers[:-10]:\n",
        "  layer.trainable=False\n",
        "\n",
        "# recompile it\n",
        "\n",
        "model_2.compile(loss='categorical_crossentropy',\n",
        "                optimizer=tf.keras.optimizers.Adam(lr=0.0001),\n",
        "                metrics=['accuracy'])"
      ],
      "metadata": {
        "colab": {
          "base_uri": "https://localhost:8080/"
        },
        "id": "fDfxlaj29ILI",
        "outputId": "2956023f-20b0-450b-f76e-73fca440bb7e"
      },
      "execution_count": null,
      "outputs": [
        {
          "output_type": "stream",
          "name": "stderr",
          "text": [
            "/usr/local/lib/python3.7/dist-packages/keras/optimizer_v2/adam.py:105: UserWarning: The `lr` argument is deprecated, use `learning_rate` instead.\n",
            "  super(Adam, self).__init__(name, **kwargs)\n"
          ]
        }
      ]
    },
    {
      "cell_type": "markdown",
      "source": [
        "**while fine tunning we require lower learing rate**"
      ],
      "metadata": {
        "id": "HmsDxNhu_UGL"
      }
    },
    {
      "cell_type": "code",
      "source": [
        "for i,layer in enumerate(model_2.layers[1].layers):\n",
        "  print(i,layer.name,layer.trainable)"
      ],
      "metadata": {
        "colab": {
          "base_uri": "https://localhost:8080/"
        },
        "id": "bXNcRpUY_YvW",
        "outputId": "ad3e9fbd-46d5-46e2-ab6f-35df13a96b8a"
      },
      "execution_count": null,
      "outputs": [
        {
          "output_type": "stream",
          "name": "stdout",
          "text": [
            "0 input_4 False\n",
            "1 rescaling_3 False\n",
            "2 normalization_3 False\n",
            "3 stem_conv_pad False\n",
            "4 stem_conv False\n",
            "5 stem_bn False\n",
            "6 stem_activation False\n",
            "7 block1a_dwconv False\n",
            "8 block1a_bn False\n",
            "9 block1a_activation False\n",
            "10 block1a_se_squeeze False\n",
            "11 block1a_se_reshape False\n",
            "12 block1a_se_reduce False\n",
            "13 block1a_se_expand False\n",
            "14 block1a_se_excite False\n",
            "15 block1a_project_conv False\n",
            "16 block1a_project_bn False\n",
            "17 block2a_expand_conv False\n",
            "18 block2a_expand_bn False\n",
            "19 block2a_expand_activation False\n",
            "20 block2a_dwconv_pad False\n",
            "21 block2a_dwconv False\n",
            "22 block2a_bn False\n",
            "23 block2a_activation False\n",
            "24 block2a_se_squeeze False\n",
            "25 block2a_se_reshape False\n",
            "26 block2a_se_reduce False\n",
            "27 block2a_se_expand False\n",
            "28 block2a_se_excite False\n",
            "29 block2a_project_conv False\n",
            "30 block2a_project_bn False\n",
            "31 block2b_expand_conv False\n",
            "32 block2b_expand_bn False\n",
            "33 block2b_expand_activation False\n",
            "34 block2b_dwconv False\n",
            "35 block2b_bn False\n",
            "36 block2b_activation False\n",
            "37 block2b_se_squeeze False\n",
            "38 block2b_se_reshape False\n",
            "39 block2b_se_reduce False\n",
            "40 block2b_se_expand False\n",
            "41 block2b_se_excite False\n",
            "42 block2b_project_conv False\n",
            "43 block2b_project_bn False\n",
            "44 block2b_drop False\n",
            "45 block2b_add False\n",
            "46 block3a_expand_conv False\n",
            "47 block3a_expand_bn False\n",
            "48 block3a_expand_activation False\n",
            "49 block3a_dwconv_pad False\n",
            "50 block3a_dwconv False\n",
            "51 block3a_bn False\n",
            "52 block3a_activation False\n",
            "53 block3a_se_squeeze False\n",
            "54 block3a_se_reshape False\n",
            "55 block3a_se_reduce False\n",
            "56 block3a_se_expand False\n",
            "57 block3a_se_excite False\n",
            "58 block3a_project_conv False\n",
            "59 block3a_project_bn False\n",
            "60 block3b_expand_conv False\n",
            "61 block3b_expand_bn False\n",
            "62 block3b_expand_activation False\n",
            "63 block3b_dwconv False\n",
            "64 block3b_bn False\n",
            "65 block3b_activation False\n",
            "66 block3b_se_squeeze False\n",
            "67 block3b_se_reshape False\n",
            "68 block3b_se_reduce False\n",
            "69 block3b_se_expand False\n",
            "70 block3b_se_excite False\n",
            "71 block3b_project_conv False\n",
            "72 block3b_project_bn False\n",
            "73 block3b_drop False\n",
            "74 block3b_add False\n",
            "75 block4a_expand_conv False\n",
            "76 block4a_expand_bn False\n",
            "77 block4a_expand_activation False\n",
            "78 block4a_dwconv_pad False\n",
            "79 block4a_dwconv False\n",
            "80 block4a_bn False\n",
            "81 block4a_activation False\n",
            "82 block4a_se_squeeze False\n",
            "83 block4a_se_reshape False\n",
            "84 block4a_se_reduce False\n",
            "85 block4a_se_expand False\n",
            "86 block4a_se_excite False\n",
            "87 block4a_project_conv False\n",
            "88 block4a_project_bn False\n",
            "89 block4b_expand_conv False\n",
            "90 block4b_expand_bn False\n",
            "91 block4b_expand_activation False\n",
            "92 block4b_dwconv False\n",
            "93 block4b_bn False\n",
            "94 block4b_activation False\n",
            "95 block4b_se_squeeze False\n",
            "96 block4b_se_reshape False\n",
            "97 block4b_se_reduce False\n",
            "98 block4b_se_expand False\n",
            "99 block4b_se_excite False\n",
            "100 block4b_project_conv False\n",
            "101 block4b_project_bn False\n",
            "102 block4b_drop False\n",
            "103 block4b_add False\n",
            "104 block4c_expand_conv False\n",
            "105 block4c_expand_bn False\n",
            "106 block4c_expand_activation False\n",
            "107 block4c_dwconv False\n",
            "108 block4c_bn False\n",
            "109 block4c_activation False\n",
            "110 block4c_se_squeeze False\n",
            "111 block4c_se_reshape False\n",
            "112 block4c_se_reduce False\n",
            "113 block4c_se_expand False\n",
            "114 block4c_se_excite False\n",
            "115 block4c_project_conv False\n",
            "116 block4c_project_bn False\n",
            "117 block4c_drop False\n",
            "118 block4c_add False\n",
            "119 block5a_expand_conv False\n",
            "120 block5a_expand_bn False\n",
            "121 block5a_expand_activation False\n",
            "122 block5a_dwconv False\n",
            "123 block5a_bn False\n",
            "124 block5a_activation False\n",
            "125 block5a_se_squeeze False\n",
            "126 block5a_se_reshape False\n",
            "127 block5a_se_reduce False\n",
            "128 block5a_se_expand False\n",
            "129 block5a_se_excite False\n",
            "130 block5a_project_conv False\n",
            "131 block5a_project_bn False\n",
            "132 block5b_expand_conv False\n",
            "133 block5b_expand_bn False\n",
            "134 block5b_expand_activation False\n",
            "135 block5b_dwconv False\n",
            "136 block5b_bn False\n",
            "137 block5b_activation False\n",
            "138 block5b_se_squeeze False\n",
            "139 block5b_se_reshape False\n",
            "140 block5b_se_reduce False\n",
            "141 block5b_se_expand False\n",
            "142 block5b_se_excite False\n",
            "143 block5b_project_conv False\n",
            "144 block5b_project_bn False\n",
            "145 block5b_drop False\n",
            "146 block5b_add False\n",
            "147 block5c_expand_conv False\n",
            "148 block5c_expand_bn False\n",
            "149 block5c_expand_activation False\n",
            "150 block5c_dwconv False\n",
            "151 block5c_bn False\n",
            "152 block5c_activation False\n",
            "153 block5c_se_squeeze False\n",
            "154 block5c_se_reshape False\n",
            "155 block5c_se_reduce False\n",
            "156 block5c_se_expand False\n",
            "157 block5c_se_excite False\n",
            "158 block5c_project_conv False\n",
            "159 block5c_project_bn False\n",
            "160 block5c_drop False\n",
            "161 block5c_add False\n",
            "162 block6a_expand_conv False\n",
            "163 block6a_expand_bn False\n",
            "164 block6a_expand_activation False\n",
            "165 block6a_dwconv_pad False\n",
            "166 block6a_dwconv False\n",
            "167 block6a_bn False\n",
            "168 block6a_activation False\n",
            "169 block6a_se_squeeze False\n",
            "170 block6a_se_reshape False\n",
            "171 block6a_se_reduce False\n",
            "172 block6a_se_expand False\n",
            "173 block6a_se_excite False\n",
            "174 block6a_project_conv False\n",
            "175 block6a_project_bn False\n",
            "176 block6b_expand_conv False\n",
            "177 block6b_expand_bn False\n",
            "178 block6b_expand_activation False\n",
            "179 block6b_dwconv False\n",
            "180 block6b_bn False\n",
            "181 block6b_activation False\n",
            "182 block6b_se_squeeze False\n",
            "183 block6b_se_reshape False\n",
            "184 block6b_se_reduce False\n",
            "185 block6b_se_expand False\n",
            "186 block6b_se_excite False\n",
            "187 block6b_project_conv False\n",
            "188 block6b_project_bn False\n",
            "189 block6b_drop False\n",
            "190 block6b_add False\n",
            "191 block6c_expand_conv False\n",
            "192 block6c_expand_bn False\n",
            "193 block6c_expand_activation False\n",
            "194 block6c_dwconv False\n",
            "195 block6c_bn False\n",
            "196 block6c_activation False\n",
            "197 block6c_se_squeeze False\n",
            "198 block6c_se_reshape False\n",
            "199 block6c_se_reduce False\n",
            "200 block6c_se_expand False\n",
            "201 block6c_se_excite False\n",
            "202 block6c_project_conv False\n",
            "203 block6c_project_bn False\n",
            "204 block6c_drop False\n",
            "205 block6c_add False\n",
            "206 block6d_expand_conv False\n",
            "207 block6d_expand_bn False\n",
            "208 block6d_expand_activation False\n",
            "209 block6d_dwconv False\n",
            "210 block6d_bn False\n",
            "211 block6d_activation False\n",
            "212 block6d_se_squeeze False\n",
            "213 block6d_se_reshape False\n",
            "214 block6d_se_reduce False\n",
            "215 block6d_se_expand False\n",
            "216 block6d_se_excite False\n",
            "217 block6d_project_conv False\n",
            "218 block6d_project_bn False\n",
            "219 block6d_drop False\n",
            "220 block6d_add False\n",
            "221 block7a_expand_conv False\n",
            "222 block7a_expand_bn False\n",
            "223 block7a_expand_activation False\n",
            "224 block7a_dwconv False\n",
            "225 block7a_bn False\n",
            "226 block7a_activation False\n",
            "227 block7a_se_squeeze True\n",
            "228 block7a_se_reshape True\n",
            "229 block7a_se_reduce True\n",
            "230 block7a_se_expand True\n",
            "231 block7a_se_excite True\n",
            "232 block7a_project_conv True\n",
            "233 block7a_project_bn True\n",
            "234 top_conv True\n",
            "235 top_bn True\n",
            "236 top_activation True\n"
          ]
        }
      ]
    },
    {
      "cell_type": "markdown",
      "source": [
        "**We have unfrozen 10 layers**"
      ],
      "metadata": {
        "id": "wRnh22hYAY09"
      }
    },
    {
      "cell_type": "code",
      "source": [
        "len(model_2.layers[1].trainable_variables)"
      ],
      "metadata": {
        "colab": {
          "base_uri": "https://localhost:8080/"
        },
        "id": "ZicDcnWdACQh",
        "outputId": "0acfa02c-c321-49b3-cc08-e6487aa69ae6"
      },
      "execution_count": null,
      "outputs": [
        {
          "output_type": "execute_result",
          "data": {
            "text/plain": [
              "10"
            ]
          },
          "metadata": {},
          "execution_count": 113
        }
      ]
    },
    {
      "cell_type": "markdown",
      "source": [
        "**fitting model_3**"
      ],
      "metadata": {
        "id": "ggAy-0BCBtnE"
      }
    },
    {
      "cell_type": "code",
      "source": [
        "history_2.epoch"
      ],
      "metadata": {
        "colab": {
          "base_uri": "https://localhost:8080/"
        },
        "id": "TYCmcQqgB45L",
        "outputId": "5f4c395e-8f72-4de3-84d1-8c2c39d99235"
      },
      "execution_count": null,
      "outputs": [
        {
          "output_type": "execute_result",
          "data": {
            "text/plain": [
              "[0, 1, 2, 3, 4]"
            ]
          },
          "metadata": {},
          "execution_count": 114
        }
      ]
    },
    {
      "cell_type": "code",
      "source": [
        "fine_tune_epochs=len(history_2.epoch) + 5 # train for more 5 epoch from where left..."
      ],
      "metadata": {
        "id": "OQ5Zgu_BB-Z2"
      },
      "execution_count": null,
      "outputs": []
    },
    {
      "cell_type": "code",
      "source": [
        "history_3=model_2.fit(train_data_10_per,\n",
        "                      epochs=fine_tune_epochs,\n",
        "                      validation_data=test_data_10_per,\n",
        "                      validation_steps=len(test_data_10_per),\n",
        "                      steps_per_epoch=len(train_data_10_per),\n",
        "                      initial_epoch=history_2.epoch[-1],\n",
        "                      callbacks=[checkpoint_callback])"
      ],
      "metadata": {
        "colab": {
          "base_uri": "https://localhost:8080/"
        },
        "id": "O-VqTP5dAW6C",
        "outputId": "cce218f4-2703-4d28-878a-8b111c2a023b"
      },
      "execution_count": null,
      "outputs": [
        {
          "output_type": "stream",
          "name": "stdout",
          "text": [
            "Epoch 5/10\n",
            "24/24 [==============================] - ETA: 0s - loss: 0.3483 - accuracy: 0.9080\n",
            "Epoch 00005: saving model to 10_percent_checkpoints/checkpoint.ckpt\n",
            "24/24 [==============================] - 22s 660ms/step - loss: 0.3483 - accuracy: 0.9080 - val_loss: 0.4442 - val_accuracy: 0.8524\n",
            "Epoch 6/10\n",
            "24/24 [==============================] - ETA: 0s - loss: 0.2466 - accuracy: 0.9347\n",
            "Epoch 00006: saving model to 10_percent_checkpoints/checkpoint.ckpt\n",
            "24/24 [==============================] - 14s 593ms/step - loss: 0.2466 - accuracy: 0.9347 - val_loss: 0.4297 - val_accuracy: 0.8524\n",
            "Epoch 7/10\n",
            "24/24 [==============================] - ETA: 0s - loss: 0.1852 - accuracy: 0.9667\n",
            "Epoch 00007: saving model to 10_percent_checkpoints/checkpoint.ckpt\n",
            "24/24 [==============================] - 14s 589ms/step - loss: 0.1852 - accuracy: 0.9667 - val_loss: 0.4265 - val_accuracy: 0.8468\n",
            "Epoch 8/10\n",
            "24/24 [==============================] - ETA: 0s - loss: 0.1462 - accuracy: 0.9653\n",
            "Epoch 00008: saving model to 10_percent_checkpoints/checkpoint.ckpt\n",
            "24/24 [==============================] - 14s 596ms/step - loss: 0.1462 - accuracy: 0.9653 - val_loss: 0.4231 - val_accuracy: 0.8552\n",
            "Epoch 9/10\n",
            "24/24 [==============================] - ETA: 0s - loss: 0.1102 - accuracy: 0.9840\n",
            "Epoch 00009: saving model to 10_percent_checkpoints/checkpoint.ckpt\n",
            "24/24 [==============================] - 14s 597ms/step - loss: 0.1102 - accuracy: 0.9840 - val_loss: 0.4300 - val_accuracy: 0.8532\n",
            "Epoch 10/10\n",
            "24/24 [==============================] - ETA: 0s - loss: 0.0864 - accuracy: 0.9867\n",
            "Epoch 00010: saving model to 10_percent_checkpoints/checkpoint.ckpt\n",
            "24/24 [==============================] - 15s 620ms/step - loss: 0.0864 - accuracy: 0.9867 - val_loss: 0.4401 - val_accuracy: 0.8480\n"
          ]
        }
      ]
    },
    {
      "cell_type": "code",
      "source": [
        "result_for_fine_tunning=model_2.evaluate(test_data)"
      ],
      "metadata": {
        "colab": {
          "base_uri": "https://localhost:8080/"
        },
        "id": "-S3vyrv9CsWB",
        "outputId": "ef8c32ab-6644-485a-a7a1-87c422126674"
      },
      "execution_count": null,
      "outputs": [
        {
          "output_type": "stream",
          "name": "stdout",
          "text": [
            "79/79 [==============================] - 11s 130ms/step - loss: 0.4401 - accuracy: 0.8480\n"
          ]
        }
      ]
    },
    {
      "cell_type": "code",
      "source": [
        "plot_loss_curves(history_3)"
      ],
      "metadata": {
        "colab": {
          "base_uri": "https://localhost:8080/",
          "height": 573
        },
        "id": "8E0_bI8tCa8o",
        "outputId": "6cf63a57-36f2-47d6-9f7d-226d7d8e6ffa"
      },
      "execution_count": null,
      "outputs": [
        {
          "output_type": "display_data",
          "data": {
            "image/png": "[encoded data removed]",
            "text/plain": [
              "<Figure size 432x288 with 1 Axes>"
            ]
          },
          "metadata": {
            "needs_background": "light"
          }
        },
        {
          "output_type": "display_data",
          "data": {
            "image/png": "[encoded data removed]",
            "text/plain": [
              "<Figure size 432x288 with 1 Axes>"
            ]
          },
          "metadata": {
            "needs_background": "light"
          }
        }
      ]
    },
    {
      "cell_type": "markdown",
      "source": [
        "⏰ we get loss curve for first 5 epochs not after it so let make a function for it..."
      ],
      "metadata": {
        "id": "TrUoLZQ7DruG"
      }
    },
    {
      "cell_type": "code",
      "source": [
        "# let's make a fuction for comparing history\n",
        "\n",
        "def compare_history(new_history,old_history,initial_epoch):\n",
        "\n",
        "  # get old history object attributs\n",
        "  acc=old_history.history['accuracy']\n",
        "  loss=old_history.history['loss']\n",
        "\n",
        "  val_loss=old_history.history['val_loss']\n",
        "  val_acc=old_history.history['val_accuracy']\n",
        "\n",
        "  # now get new history object and combine with older one\n",
        "\n",
        "  total_acc = acc + new_history.history['accuracy']\n",
        "  total_loss = loss + new_history.history['loss'] \n",
        "\n",
        "  total_val_loss = val_loss + new_history.history['val_loss']\n",
        "  total_val_acc = val_acc + new_history.history['val_accuracy']\n",
        "\n",
        "  epochs=tf.range(len(total_acc))\n",
        "\n",
        "\n",
        "  plt.figure(figsize=(8,8))\n",
        "  plt.subplot(2,1,1)\n",
        "  plt.plot(total_acc,label='total_accuracy')\n",
        "  plt.plot(total_val_acc,label='total_val_accuracy')\n",
        "  plt.plot([initial_epoch-1,initial_epoch-1],plt.ylim(),label='start tunning')\n",
        "  plt.title(\"Accuracy\")\n",
        "\n",
        "  plt.subplot(2,1,2)\n",
        "  plt.plot(total_loss,label='total_loss')\n",
        "  plt.plot(total_val_loss,label='total_validation_loss')\n",
        "  plt.plot([initial_epoch-1,initial_epoch-1],plt.ylim(),label='start tunning')\n",
        "  plt.title(\"Loss\")\n",
        "  plt.legend()"
      ],
      "metadata": {
        "id": "PmkaeAJXDek6"
      },
      "execution_count": null,
      "outputs": []
    },
    {
      "cell_type": "code",
      "source": [
        "compare_history(history_3,history_2,5)"
      ],
      "metadata": {
        "colab": {
          "base_uri": "https://localhost:8080/",
          "height": 499
        },
        "id": "pYUS0H-ZGPlL",
        "outputId": "8d98b9cc-ea0e-407b-ae62-c5a09b39bd6c"
      },
      "execution_count": null,
      "outputs": [
        {
          "output_type": "display_data",
          "data": {
            "image/png": "[encoded data removed]",
            "text/plain": [
              "<Figure size 576x576 with 2 Axes>"
            ]
          },
          "metadata": {
            "needs_background": "light"
          }
        }
      ]
    },
    {
      "cell_type": "markdown",
      "source": [
        "## **Fine tunning on all data 100%**"
      ],
      "metadata": {
        "id": "_FPU01NfKppH"
      }
    },
    {
      "cell_type": "markdown",
      "source": [
        "As we know fine tunning perform better on more data..."
      ],
      "metadata": {
        "id": "eXuQI1woKuhw"
      }
    },
    {
      "cell_type": "markdown",
      "source": [
        "### **Get Data**"
      ],
      "metadata": {
        "id": "duwkol5HK0J8"
      }
    },
    {
      "cell_type": "code",
      "source": [
        "!wget https://storage.googleapis.com/ztm_tf_course/food_vision/10_food_classes_all_data.zip\n",
        "\n",
        "unzip_data('10_food_classes_all_data.zip')"
      ],
      "metadata": {
        "colab": {
          "base_uri": "https://localhost:8080/"
        },
        "id": "ai9XA0-UGTCQ",
        "outputId": "418c2433-2bf1-4803-80a9-b50e8d1b8575"
      },
      "execution_count": null,
      "outputs": [
        {
          "output_type": "stream",
          "name": "stdout",
          "text": [
            "--2022-01-28 14:51:58--  https://storage.googleapis.com/ztm_tf_course/food_vision/10_food_classes_all_data.zip\n",
            "Resolving storage.googleapis.com (storage.googleapis.com)... 74.125.133.128, 74.125.140.128, 108.177.15.128, ...\n",
            "Connecting to storage.googleapis.com (storage.googleapis.com)|74.125.133.128|:443... connected.\n",
            "HTTP request sent, awaiting response... 200 OK\n",
            "Length: 519183241 (495M) [application/zip]\n",
            "Saving to: ‘10_food_classes_all_data.zip’\n",
            "\n",
            "10_food_classes_all 100%[===================>] 495.13M   109MB/s    in 5.1s    \n",
            "\n",
            "2022-01-28 14:52:04 (96.4 MB/s) - ‘10_food_classes_all_data.zip’ saved [519183241/519183241]\n",
            "\n"
          ]
        }
      ]
    },
    {
      "cell_type": "code",
      "source": [
        "train_dir='10_food_classes_all_data/train'\n",
        "test_dir='10_food_classes_all_data/test'"
      ],
      "metadata": {
        "id": "v2pP1qMeK76m"
      },
      "execution_count": null,
      "outputs": []
    },
    {
      "cell_type": "code",
      "source": [
        "walk_through_dir('10_food_classes_all_data')"
      ],
      "metadata": {
        "colab": {
          "base_uri": "https://localhost:8080/"
        },
        "id": "jqJdkF06LI_n",
        "outputId": "1455c39c-4451-4c54-98a4-2fbd865dd3bb"
      },
      "execution_count": null,
      "outputs": [
        {
          "output_type": "stream",
          "name": "stdout",
          "text": [
            "There are 2 directories and 0 images in '10_food_classes_all_data'.\n",
            "There are 10 directories and 0 images in '10_food_classes_all_data/test'.\n",
            "There are 0 directories and 250 images in '10_food_classes_all_data/test/pizza'.\n",
            "There are 0 directories and 250 images in '10_food_classes_all_data/test/steak'.\n",
            "There are 0 directories and 250 images in '10_food_classes_all_data/test/ramen'.\n",
            "There are 0 directories and 250 images in '10_food_classes_all_data/test/ice_cream'.\n",
            "There are 0 directories and 250 images in '10_food_classes_all_data/test/fried_rice'.\n",
            "There are 0 directories and 250 images in '10_food_classes_all_data/test/sushi'.\n",
            "There are 0 directories and 250 images in '10_food_classes_all_data/test/grilled_salmon'.\n",
            "There are 0 directories and 250 images in '10_food_classes_all_data/test/hamburger'.\n",
            "There are 0 directories and 250 images in '10_food_classes_all_data/test/chicken_curry'.\n",
            "There are 0 directories and 250 images in '10_food_classes_all_data/test/chicken_wings'.\n",
            "There are 10 directories and 0 images in '10_food_classes_all_data/train'.\n",
            "There are 0 directories and 750 images in '10_food_classes_all_data/train/pizza'.\n",
            "There are 0 directories and 750 images in '10_food_classes_all_data/train/steak'.\n",
            "There are 0 directories and 750 images in '10_food_classes_all_data/train/ramen'.\n",
            "There are 0 directories and 750 images in '10_food_classes_all_data/train/ice_cream'.\n",
            "There are 0 directories and 750 images in '10_food_classes_all_data/train/fried_rice'.\n",
            "There are 0 directories and 750 images in '10_food_classes_all_data/train/sushi'.\n",
            "There are 0 directories and 750 images in '10_food_classes_all_data/train/grilled_salmon'.\n",
            "There are 0 directories and 750 images in '10_food_classes_all_data/train/hamburger'.\n",
            "There are 0 directories and 750 images in '10_food_classes_all_data/train/chicken_curry'.\n",
            "There are 0 directories and 750 images in '10_food_classes_all_data/train/chicken_wings'.\n"
          ]
        }
      ]
    },
    {
      "cell_type": "code",
      "source": [
        "# data loader\n",
        "\n",
        "train_data_all=tf.keras.preprocessing.image_dataset_from_directory(directory=train_dir,\n",
        "                                                                image_size=(224,224),\n",
        "                                                                label_mode='categorical')\n",
        "\n",
        "test_data_all=tf.keras.preprocessing.image_dataset_from_directory(test_dir,\n",
        "                                                                  image_size=(224,224),\n",
        "                                                                  label_mode='categorical')"
      ],
      "metadata": {
        "colab": {
          "base_uri": "https://localhost:8080/"
        },
        "id": "m-jk7AZTLN9I",
        "outputId": "eb6411ae-5cbe-418a-e30a-3f2e58d1fed9"
      },
      "execution_count": null,
      "outputs": [
        {
          "output_type": "stream",
          "name": "stdout",
          "text": [
            "Found 7500 files belonging to 10 classes.\n",
            "Found 2500 files belonging to 10 classes.\n"
          ]
        }
      ]
    },
    {
      "cell_type": "markdown",
      "source": [
        "## **Building model_4**"
      ],
      "metadata": {
        "id": "WwhlnR_oMALi"
      }
    },
    {
      "cell_type": "markdown",
      "source": [
        "**fine tunning with 100% of data and data is augumented**"
      ],
      "metadata": {
        "id": "s3LblVW2MVoi"
      }
    },
    {
      "cell_type": "markdown",
      "source": [
        "To fine tunning, we require a model as feature extracted and train for some epochs so we need our model_2's earlier stage i.e before fine tunning \n",
        "\n",
        "We can get it by loading it's checkpoints"
      ],
      "metadata": {
        "id": "n7GYz70uNVMQ"
      }
    },
    {
      "cell_type": "code",
      "source": [
        "result_model_10_per"
      ],
      "metadata": {
        "colab": {
          "base_uri": "https://localhost:8080/"
        },
        "id": "AYgNcs5uO8Hc",
        "outputId": "d036e080-a188-49b0-9996-e4dd09193455"
      },
      "execution_count": null,
      "outputs": [
        {
          "output_type": "execute_result",
          "data": {
            "text/plain": [
              "[0.11882000416517258, 0.8464000225067139]"
            ]
          },
          "metadata": {},
          "execution_count": 177
        }
      ]
    },
    {
      "cell_type": "code",
      "source": [
        "model_2.load_weights(checkpoint_path)"
      ],
      "metadata": {
        "colab": {
          "base_uri": "https://localhost:8080/"
        },
        "id": "p_onRDpvL33V",
        "outputId": "02313a25-76d4-4eea-c77b-f090451c6340"
      },
      "execution_count": null,
      "outputs": [
        {
          "output_type": "execute_result",
          "data": {
            "text/plain": [
              "<tensorflow.python.training.tracking.util.CheckpointLoadStatus at 0x7f3056bbed10>"
            ]
          },
          "metadata": {},
          "execution_count": 178
        }
      ]
    },
    {
      "cell_type": "code",
      "source": [
        "model_2.evaluate(test_data_10_per)"
      ],
      "metadata": {
        "colab": {
          "base_uri": "https://localhost:8080/"
        },
        "id": "dNHDb7uOPRVk",
        "outputId": "063bb9db-4960-4cf1-f406-f5e57ca0287d"
      },
      "execution_count": null,
      "outputs": [
        {
          "output_type": "stream",
          "name": "stdout",
          "text": [
            "79/79 [==============================] - 11s 133ms/step - loss: 0.1188 - accuracy: 0.8464\n"
          ]
        },
        {
          "output_type": "execute_result",
          "data": {
            "text/plain": [
              "[0.11882004141807556, 0.8464000225067139]"
            ]
          },
          "metadata": {},
          "execution_count": 179
        }
      ]
    },
    {
      "cell_type": "markdown",
      "source": [
        "🔑 **What we have did till now....**"
      ],
      "metadata": {
        "id": "87Vxxj39RGA2"
      }
    },
    {
      "cell_type": "markdown",
      "source": [
        "1. we make a `model_2` and save it's weights.\n",
        "2. we load weights of `model_2` and **fine tunned** it and train on 10% of data\n",
        ", we call it as `model_3`.\n",
        "\n",
        "till now we have done this much......\n",
        "\n",
        "---\n",
        "Now we are going to reload weights of `model_2` and **fine-tune** it on 100% of data , we will call it as `model_4`.\n"
      ],
      "metadata": {
        "id": "Mdpb2vxjROf8"
      }
    },
    {
      "cell_type": "code",
      "source": [
        "model_2.layers"
      ],
      "metadata": {
        "colab": {
          "base_uri": "https://localhost:8080/"
        },
        "id": "XIQBxUbJPilr",
        "outputId": "e37d7e62-905d-4a50-fdcd-e5fc847acad4"
      },
      "execution_count": null,
      "outputs": [
        {
          "output_type": "execute_result",
          "data": {
            "text/plain": [
              "[<keras.engine.input_layer.InputLayer at 0x7f306106ee50>,\n",
              " <keras.engine.functional.Functional at 0x7f3060cb6490>,\n",
              " <keras.layers.pooling.GlobalAveragePooling2D at 0x7f306106ed90>,\n",
              " <keras.layers.core.dense.Dense at 0x7f30610e7150>]"
            ]
          },
          "metadata": {},
          "execution_count": 180
        }
      ]
    },
    {
      "cell_type": "code",
      "source": [
        "for i,layer in enumerate(model_2.layers[1].layers):\n",
        "  print(i,layer.name,layer.trainable)"
      ],
      "metadata": {
        "colab": {
          "base_uri": "https://localhost:8080/"
        },
        "id": "haVetCbSSV2f",
        "outputId": "ecece33a-f34d-4ebe-da98-4cd04ac00206"
      },
      "execution_count": null,
      "outputs": [
        {
          "output_type": "stream",
          "name": "stdout",
          "text": [
            "0 input_6 False\n",
            "1 rescaling_5 False\n",
            "2 normalization_5 False\n",
            "3 stem_conv_pad False\n",
            "4 stem_conv False\n",
            "5 stem_bn False\n",
            "6 stem_activation False\n",
            "7 block1a_dwconv False\n",
            "8 block1a_bn False\n",
            "9 block1a_activation False\n",
            "10 block1a_se_squeeze False\n",
            "11 block1a_se_reshape False\n",
            "12 block1a_se_reduce False\n",
            "13 block1a_se_expand False\n",
            "14 block1a_se_excite False\n",
            "15 block1a_project_conv False\n",
            "16 block1a_project_bn False\n",
            "17 block2a_expand_conv False\n",
            "18 block2a_expand_bn False\n",
            "19 block2a_expand_activation False\n",
            "20 block2a_dwconv_pad False\n",
            "21 block2a_dwconv False\n",
            "22 block2a_bn False\n",
            "23 block2a_activation False\n",
            "24 block2a_se_squeeze False\n",
            "25 block2a_se_reshape False\n",
            "26 block2a_se_reduce False\n",
            "27 block2a_se_expand False\n",
            "28 block2a_se_excite False\n",
            "29 block2a_project_conv False\n",
            "30 block2a_project_bn False\n",
            "31 block2b_expand_conv False\n",
            "32 block2b_expand_bn False\n",
            "33 block2b_expand_activation False\n",
            "34 block2b_dwconv False\n",
            "35 block2b_bn False\n",
            "36 block2b_activation False\n",
            "37 block2b_se_squeeze False\n",
            "38 block2b_se_reshape False\n",
            "39 block2b_se_reduce False\n",
            "40 block2b_se_expand False\n",
            "41 block2b_se_excite False\n",
            "42 block2b_project_conv False\n",
            "43 block2b_project_bn False\n",
            "44 block2b_drop False\n",
            "45 block2b_add False\n",
            "46 block3a_expand_conv False\n",
            "47 block3a_expand_bn False\n",
            "48 block3a_expand_activation False\n",
            "49 block3a_dwconv_pad False\n",
            "50 block3a_dwconv False\n",
            "51 block3a_bn False\n",
            "52 block3a_activation False\n",
            "53 block3a_se_squeeze False\n",
            "54 block3a_se_reshape False\n",
            "55 block3a_se_reduce False\n",
            "56 block3a_se_expand False\n",
            "57 block3a_se_excite False\n",
            "58 block3a_project_conv False\n",
            "59 block3a_project_bn False\n",
            "60 block3b_expand_conv False\n",
            "61 block3b_expand_bn False\n",
            "62 block3b_expand_activation False\n",
            "63 block3b_dwconv False\n",
            "64 block3b_bn False\n",
            "65 block3b_activation False\n",
            "66 block3b_se_squeeze False\n",
            "67 block3b_se_reshape False\n",
            "68 block3b_se_reduce False\n",
            "69 block3b_se_expand False\n",
            "70 block3b_se_excite False\n",
            "71 block3b_project_conv False\n",
            "72 block3b_project_bn False\n",
            "73 block3b_drop False\n",
            "74 block3b_add False\n",
            "75 block4a_expand_conv False\n",
            "76 block4a_expand_bn False\n",
            "77 block4a_expand_activation False\n",
            "78 block4a_dwconv_pad False\n",
            "79 block4a_dwconv False\n",
            "80 block4a_bn False\n",
            "81 block4a_activation False\n",
            "82 block4a_se_squeeze False\n",
            "83 block4a_se_reshape False\n",
            "84 block4a_se_reduce False\n",
            "85 block4a_se_expand False\n",
            "86 block4a_se_excite False\n",
            "87 block4a_project_conv False\n",
            "88 block4a_project_bn False\n",
            "89 block4b_expand_conv False\n",
            "90 block4b_expand_bn False\n",
            "91 block4b_expand_activation False\n",
            "92 block4b_dwconv False\n",
            "93 block4b_bn False\n",
            "94 block4b_activation False\n",
            "95 block4b_se_squeeze False\n",
            "96 block4b_se_reshape False\n",
            "97 block4b_se_reduce False\n",
            "98 block4b_se_expand False\n",
            "99 block4b_se_excite False\n",
            "100 block4b_project_conv False\n",
            "101 block4b_project_bn False\n",
            "102 block4b_drop False\n",
            "103 block4b_add False\n",
            "104 block4c_expand_conv False\n",
            "105 block4c_expand_bn False\n",
            "106 block4c_expand_activation False\n",
            "107 block4c_dwconv False\n",
            "108 block4c_bn False\n",
            "109 block4c_activation False\n",
            "110 block4c_se_squeeze False\n",
            "111 block4c_se_reshape False\n",
            "112 block4c_se_reduce False\n",
            "113 block4c_se_expand False\n",
            "114 block4c_se_excite False\n",
            "115 block4c_project_conv False\n",
            "116 block4c_project_bn False\n",
            "117 block4c_drop False\n",
            "118 block4c_add False\n",
            "119 block5a_expand_conv False\n",
            "120 block5a_expand_bn False\n",
            "121 block5a_expand_activation False\n",
            "122 block5a_dwconv False\n",
            "123 block5a_bn False\n",
            "124 block5a_activation False\n",
            "125 block5a_se_squeeze False\n",
            "126 block5a_se_reshape False\n",
            "127 block5a_se_reduce False\n",
            "128 block5a_se_expand False\n",
            "129 block5a_se_excite False\n",
            "130 block5a_project_conv False\n",
            "131 block5a_project_bn False\n",
            "132 block5b_expand_conv False\n",
            "133 block5b_expand_bn False\n",
            "134 block5b_expand_activation False\n",
            "135 block5b_dwconv False\n",
            "136 block5b_bn False\n",
            "137 block5b_activation False\n",
            "138 block5b_se_squeeze False\n",
            "139 block5b_se_reshape False\n",
            "140 block5b_se_reduce False\n",
            "141 block5b_se_expand False\n",
            "142 block5b_se_excite False\n",
            "143 block5b_project_conv False\n",
            "144 block5b_project_bn False\n",
            "145 block5b_drop False\n",
            "146 block5b_add False\n",
            "147 block5c_expand_conv False\n",
            "148 block5c_expand_bn False\n",
            "149 block5c_expand_activation False\n",
            "150 block5c_dwconv False\n",
            "151 block5c_bn False\n",
            "152 block5c_activation False\n",
            "153 block5c_se_squeeze False\n",
            "154 block5c_se_reshape False\n",
            "155 block5c_se_reduce False\n",
            "156 block5c_se_expand False\n",
            "157 block5c_se_excite False\n",
            "158 block5c_project_conv False\n",
            "159 block5c_project_bn False\n",
            "160 block5c_drop False\n",
            "161 block5c_add False\n",
            "162 block6a_expand_conv False\n",
            "163 block6a_expand_bn False\n",
            "164 block6a_expand_activation False\n",
            "165 block6a_dwconv_pad False\n",
            "166 block6a_dwconv False\n",
            "167 block6a_bn False\n",
            "168 block6a_activation False\n",
            "169 block6a_se_squeeze False\n",
            "170 block6a_se_reshape False\n",
            "171 block6a_se_reduce False\n",
            "172 block6a_se_expand False\n",
            "173 block6a_se_excite False\n",
            "174 block6a_project_conv False\n",
            "175 block6a_project_bn False\n",
            "176 block6b_expand_conv False\n",
            "177 block6b_expand_bn False\n",
            "178 block6b_expand_activation False\n",
            "179 block6b_dwconv False\n",
            "180 block6b_bn False\n",
            "181 block6b_activation False\n",
            "182 block6b_se_squeeze False\n",
            "183 block6b_se_reshape False\n",
            "184 block6b_se_reduce False\n",
            "185 block6b_se_expand False\n",
            "186 block6b_se_excite False\n",
            "187 block6b_project_conv False\n",
            "188 block6b_project_bn False\n",
            "189 block6b_drop False\n",
            "190 block6b_add False\n",
            "191 block6c_expand_conv False\n",
            "192 block6c_expand_bn False\n",
            "193 block6c_expand_activation False\n",
            "194 block6c_dwconv False\n",
            "195 block6c_bn False\n",
            "196 block6c_activation False\n",
            "197 block6c_se_squeeze False\n",
            "198 block6c_se_reshape False\n",
            "199 block6c_se_reduce False\n",
            "200 block6c_se_expand False\n",
            "201 block6c_se_excite False\n",
            "202 block6c_project_conv False\n",
            "203 block6c_project_bn False\n",
            "204 block6c_drop False\n",
            "205 block6c_add False\n",
            "206 block6d_expand_conv False\n",
            "207 block6d_expand_bn False\n",
            "208 block6d_expand_activation False\n",
            "209 block6d_dwconv False\n",
            "210 block6d_bn False\n",
            "211 block6d_activation False\n",
            "212 block6d_se_squeeze False\n",
            "213 block6d_se_reshape False\n",
            "214 block6d_se_reduce False\n",
            "215 block6d_se_expand False\n",
            "216 block6d_se_excite False\n",
            "217 block6d_project_conv False\n",
            "218 block6d_project_bn False\n",
            "219 block6d_drop False\n",
            "220 block6d_add False\n",
            "221 block7a_expand_conv False\n",
            "222 block7a_expand_bn False\n",
            "223 block7a_expand_activation False\n",
            "224 block7a_dwconv False\n",
            "225 block7a_bn False\n",
            "226 block7a_activation False\n",
            "227 block7a_se_squeeze False\n",
            "228 block7a_se_reshape False\n",
            "229 block7a_se_reduce False\n",
            "230 block7a_se_expand False\n",
            "231 block7a_se_excite False\n",
            "232 block7a_project_conv False\n",
            "233 block7a_project_bn False\n",
            "234 top_conv False\n",
            "235 top_bn False\n",
            "236 top_activation False\n"
          ]
        }
      ]
    },
    {
      "cell_type": "markdown",
      "source": [
        "**Now unfroze 10 layers from bottom**"
      ],
      "metadata": {
        "id": "lkmbn_ZySkWi"
      }
    },
    {
      "cell_type": "code",
      "source": [
        "base_model.trainable=True\n",
        "\n",
        "for layer in base_model.layers[:-10]:\n",
        "  layer.trainable=False\n",
        "\n",
        "model_2.compile(loss='categorical_crossentropy',\n",
        "                optimizer=tf.keras.optimizers.Adam(0.0001),\n",
        "                metrics=['accuracy'])  "
      ],
      "metadata": {
        "id": "e4SCr1baSg_R"
      },
      "execution_count": null,
      "outputs": []
    },
    {
      "cell_type": "code",
      "source": [
        "for i,layer in enumerate(model_2.layers[1].layers):\n",
        "  print(i,layer.name,layer.trainable)"
      ],
      "metadata": {
        "colab": {
          "base_uri": "https://localhost:8080/"
        },
        "id": "9r7uM_t0TFaL",
        "outputId": "a97b70be-47f7-48b4-d3fb-8cc295caf282"
      },
      "execution_count": null,
      "outputs": [
        {
          "output_type": "stream",
          "name": "stdout",
          "text": [
            "0 input_6 False\n",
            "1 rescaling_5 False\n",
            "2 normalization_5 False\n",
            "3 stem_conv_pad False\n",
            "4 stem_conv False\n",
            "5 stem_bn False\n",
            "6 stem_activation False\n",
            "7 block1a_dwconv False\n",
            "8 block1a_bn False\n",
            "9 block1a_activation False\n",
            "10 block1a_se_squeeze False\n",
            "11 block1a_se_reshape False\n",
            "12 block1a_se_reduce False\n",
            "13 block1a_se_expand False\n",
            "14 block1a_se_excite False\n",
            "15 block1a_project_conv False\n",
            "16 block1a_project_bn False\n",
            "17 block2a_expand_conv False\n",
            "18 block2a_expand_bn False\n",
            "19 block2a_expand_activation False\n",
            "20 block2a_dwconv_pad False\n",
            "21 block2a_dwconv False\n",
            "22 block2a_bn False\n",
            "23 block2a_activation False\n",
            "24 block2a_se_squeeze False\n",
            "25 block2a_se_reshape False\n",
            "26 block2a_se_reduce False\n",
            "27 block2a_se_expand False\n",
            "28 block2a_se_excite False\n",
            "29 block2a_project_conv False\n",
            "30 block2a_project_bn False\n",
            "31 block2b_expand_conv False\n",
            "32 block2b_expand_bn False\n",
            "33 block2b_expand_activation False\n",
            "34 block2b_dwconv False\n",
            "35 block2b_bn False\n",
            "36 block2b_activation False\n",
            "37 block2b_se_squeeze False\n",
            "38 block2b_se_reshape False\n",
            "39 block2b_se_reduce False\n",
            "40 block2b_se_expand False\n",
            "41 block2b_se_excite False\n",
            "42 block2b_project_conv False\n",
            "43 block2b_project_bn False\n",
            "44 block2b_drop False\n",
            "45 block2b_add False\n",
            "46 block3a_expand_conv False\n",
            "47 block3a_expand_bn False\n",
            "48 block3a_expand_activation False\n",
            "49 block3a_dwconv_pad False\n",
            "50 block3a_dwconv False\n",
            "51 block3a_bn False\n",
            "52 block3a_activation False\n",
            "53 block3a_se_squeeze False\n",
            "54 block3a_se_reshape False\n",
            "55 block3a_se_reduce False\n",
            "56 block3a_se_expand False\n",
            "57 block3a_se_excite False\n",
            "58 block3a_project_conv False\n",
            "59 block3a_project_bn False\n",
            "60 block3b_expand_conv False\n",
            "61 block3b_expand_bn False\n",
            "62 block3b_expand_activation False\n",
            "63 block3b_dwconv False\n",
            "64 block3b_bn False\n",
            "65 block3b_activation False\n",
            "66 block3b_se_squeeze False\n",
            "67 block3b_se_reshape False\n",
            "68 block3b_se_reduce False\n",
            "69 block3b_se_expand False\n",
            "70 block3b_se_excite False\n",
            "71 block3b_project_conv False\n",
            "72 block3b_project_bn False\n",
            "73 block3b_drop False\n",
            "74 block3b_add False\n",
            "75 block4a_expand_conv False\n",
            "76 block4a_expand_bn False\n",
            "77 block4a_expand_activation False\n",
            "78 block4a_dwconv_pad False\n",
            "79 block4a_dwconv False\n",
            "80 block4a_bn False\n",
            "81 block4a_activation False\n",
            "82 block4a_se_squeeze False\n",
            "83 block4a_se_reshape False\n",
            "84 block4a_se_reduce False\n",
            "85 block4a_se_expand False\n",
            "86 block4a_se_excite False\n",
            "87 block4a_project_conv False\n",
            "88 block4a_project_bn False\n",
            "89 block4b_expand_conv False\n",
            "90 block4b_expand_bn False\n",
            "91 block4b_expand_activation False\n",
            "92 block4b_dwconv False\n",
            "93 block4b_bn False\n",
            "94 block4b_activation False\n",
            "95 block4b_se_squeeze False\n",
            "96 block4b_se_reshape False\n",
            "97 block4b_se_reduce False\n",
            "98 block4b_se_expand False\n",
            "99 block4b_se_excite False\n",
            "100 block4b_project_conv False\n",
            "101 block4b_project_bn False\n",
            "102 block4b_drop False\n",
            "103 block4b_add False\n",
            "104 block4c_expand_conv False\n",
            "105 block4c_expand_bn False\n",
            "106 block4c_expand_activation False\n",
            "107 block4c_dwconv False\n",
            "108 block4c_bn False\n",
            "109 block4c_activation False\n",
            "110 block4c_se_squeeze False\n",
            "111 block4c_se_reshape False\n",
            "112 block4c_se_reduce False\n",
            "113 block4c_se_expand False\n",
            "114 block4c_se_excite False\n",
            "115 block4c_project_conv False\n",
            "116 block4c_project_bn False\n",
            "117 block4c_drop False\n",
            "118 block4c_add False\n",
            "119 block5a_expand_conv False\n",
            "120 block5a_expand_bn False\n",
            "121 block5a_expand_activation False\n",
            "122 block5a_dwconv False\n",
            "123 block5a_bn False\n",
            "124 block5a_activation False\n",
            "125 block5a_se_squeeze False\n",
            "126 block5a_se_reshape False\n",
            "127 block5a_se_reduce False\n",
            "128 block5a_se_expand False\n",
            "129 block5a_se_excite False\n",
            "130 block5a_project_conv False\n",
            "131 block5a_project_bn False\n",
            "132 block5b_expand_conv False\n",
            "133 block5b_expand_bn False\n",
            "134 block5b_expand_activation False\n",
            "135 block5b_dwconv False\n",
            "136 block5b_bn False\n",
            "137 block5b_activation False\n",
            "138 block5b_se_squeeze False\n",
            "139 block5b_se_reshape False\n",
            "140 block5b_se_reduce False\n",
            "141 block5b_se_expand False\n",
            "142 block5b_se_excite False\n",
            "143 block5b_project_conv False\n",
            "144 block5b_project_bn False\n",
            "145 block5b_drop False\n",
            "146 block5b_add False\n",
            "147 block5c_expand_conv False\n",
            "148 block5c_expand_bn False\n",
            "149 block5c_expand_activation False\n",
            "150 block5c_dwconv False\n",
            "151 block5c_bn False\n",
            "152 block5c_activation False\n",
            "153 block5c_se_squeeze False\n",
            "154 block5c_se_reshape False\n",
            "155 block5c_se_reduce False\n",
            "156 block5c_se_expand False\n",
            "157 block5c_se_excite False\n",
            "158 block5c_project_conv False\n",
            "159 block5c_project_bn False\n",
            "160 block5c_drop False\n",
            "161 block5c_add False\n",
            "162 block6a_expand_conv False\n",
            "163 block6a_expand_bn False\n",
            "164 block6a_expand_activation False\n",
            "165 block6a_dwconv_pad False\n",
            "166 block6a_dwconv False\n",
            "167 block6a_bn False\n",
            "168 block6a_activation False\n",
            "169 block6a_se_squeeze False\n",
            "170 block6a_se_reshape False\n",
            "171 block6a_se_reduce False\n",
            "172 block6a_se_expand False\n",
            "173 block6a_se_excite False\n",
            "174 block6a_project_conv False\n",
            "175 block6a_project_bn False\n",
            "176 block6b_expand_conv False\n",
            "177 block6b_expand_bn False\n",
            "178 block6b_expand_activation False\n",
            "179 block6b_dwconv False\n",
            "180 block6b_bn False\n",
            "181 block6b_activation False\n",
            "182 block6b_se_squeeze False\n",
            "183 block6b_se_reshape False\n",
            "184 block6b_se_reduce False\n",
            "185 block6b_se_expand False\n",
            "186 block6b_se_excite False\n",
            "187 block6b_project_conv False\n",
            "188 block6b_project_bn False\n",
            "189 block6b_drop False\n",
            "190 block6b_add False\n",
            "191 block6c_expand_conv False\n",
            "192 block6c_expand_bn False\n",
            "193 block6c_expand_activation False\n",
            "194 block6c_dwconv False\n",
            "195 block6c_bn False\n",
            "196 block6c_activation False\n",
            "197 block6c_se_squeeze False\n",
            "198 block6c_se_reshape False\n",
            "199 block6c_se_reduce False\n",
            "200 block6c_se_expand False\n",
            "201 block6c_se_excite False\n",
            "202 block6c_project_conv False\n",
            "203 block6c_project_bn False\n",
            "204 block6c_drop False\n",
            "205 block6c_add False\n",
            "206 block6d_expand_conv False\n",
            "207 block6d_expand_bn False\n",
            "208 block6d_expand_activation False\n",
            "209 block6d_dwconv False\n",
            "210 block6d_bn False\n",
            "211 block6d_activation False\n",
            "212 block6d_se_squeeze False\n",
            "213 block6d_se_reshape False\n",
            "214 block6d_se_reduce False\n",
            "215 block6d_se_expand False\n",
            "216 block6d_se_excite False\n",
            "217 block6d_project_conv False\n",
            "218 block6d_project_bn False\n",
            "219 block6d_drop False\n",
            "220 block6d_add False\n",
            "221 block7a_expand_conv False\n",
            "222 block7a_expand_bn False\n",
            "223 block7a_expand_activation False\n",
            "224 block7a_dwconv False\n",
            "225 block7a_bn False\n",
            "226 block7a_activation False\n",
            "227 block7a_se_squeeze True\n",
            "228 block7a_se_reshape True\n",
            "229 block7a_se_reduce True\n",
            "230 block7a_se_expand True\n",
            "231 block7a_se_excite True\n",
            "232 block7a_project_conv True\n",
            "233 block7a_project_bn True\n",
            "234 top_conv True\n",
            "235 top_bn True\n",
            "236 top_activation True\n"
          ]
        }
      ]
    },
    {
      "cell_type": "markdown",
      "source": [
        "**fitting of `model_4`**"
      ],
      "metadata": {
        "id": "pI9Ie-CRTkAs"
      }
    },
    {
      "cell_type": "code",
      "source": [
        "initial_epoch=len(history_2.epoch)"
      ],
      "metadata": {
        "id": "rKajk3rmTuWD"
      },
      "execution_count": null,
      "outputs": []
    },
    {
      "cell_type": "code",
      "source": [
        "fine_tune_epochs = initial_epoch + 5"
      ],
      "metadata": {
        "id": "QztKx-L4T2xB"
      },
      "execution_count": null,
      "outputs": []
    },
    {
      "cell_type": "code",
      "source": [
        "history_4=model_2.fit(train_data_all,\n",
        "                      epochs=fine_tune_epochs,\n",
        "                      validation_data=test_data,\n",
        "                      initial_epoch=initial_epoch-1,\n",
        "                      steps_per_epoch=len(train_data_all),\n",
        "                      validation_steps=int(0.25*len(test_data_all)),\n",
        "                      callbacks=[checkpoint_callback]\n",
        "                      )"
      ],
      "metadata": {
        "colab": {
          "base_uri": "https://localhost:8080/"
        },
        "id": "SX69joYLThN2",
        "outputId": "e61eea40-7d57-4379-ffa6-434cc42ca159"
      },
      "execution_count": null,
      "outputs": [
        {
          "output_type": "stream",
          "name": "stdout",
          "text": [
            "Epoch 5/10\n",
            "235/235 [==============================] - ETA: 0s - loss: 0.5026 - accuracy: 0.8381\n",
            "Epoch 00005: saving model to 10_percent_checkpoints/checkpoint.ckpt\n",
            "235/235 [==============================] - 45s 160ms/step - loss: 0.5026 - accuracy: 0.8381 - val_loss: 0.3503 - val_accuracy: 0.8783\n",
            "Epoch 6/10\n",
            "235/235 [==============================] - ETA: 0s - loss: 0.3718 - accuracy: 0.8836\n",
            "Epoch 00006: saving model to 10_percent_checkpoints/checkpoint.ckpt\n",
            "235/235 [==============================] - 37s 153ms/step - loss: 0.3718 - accuracy: 0.8836 - val_loss: 0.3123 - val_accuracy: 0.8964\n",
            "Epoch 7/10\n",
            "235/235 [==============================] - ETA: 0s - loss: 0.3010 - accuracy: 0.9068\n",
            "Epoch 00007: saving model to 10_percent_checkpoints/checkpoint.ckpt\n",
            "235/235 [==============================] - 37s 154ms/step - loss: 0.3010 - accuracy: 0.9068 - val_loss: 0.3037 - val_accuracy: 0.9013\n",
            "Epoch 8/10\n",
            "235/235 [==============================] - ETA: 0s - loss: 0.2475 - accuracy: 0.9281\n",
            "Epoch 00008: saving model to 10_percent_checkpoints/checkpoint.ckpt\n",
            "235/235 [==============================] - 37s 154ms/step - loss: 0.2475 - accuracy: 0.9281 - val_loss: 0.2934 - val_accuracy: 0.9079\n",
            "Epoch 9/10\n",
            "235/235 [==============================] - ETA: 0s - loss: 0.2012 - accuracy: 0.9420\n",
            "Epoch 00009: saving model to 10_percent_checkpoints/checkpoint.ckpt\n",
            "235/235 [==============================] - 37s 154ms/step - loss: 0.2012 - accuracy: 0.9420 - val_loss: 0.3017 - val_accuracy: 0.9030\n",
            "Epoch 10/10\n",
            "235/235 [==============================] - ETA: 0s - loss: 0.1651 - accuracy: 0.9553\n",
            "Epoch 00010: saving model to 10_percent_checkpoints/checkpoint.ckpt\n",
            "235/235 [==============================] - 37s 153ms/step - loss: 0.1651 - accuracy: 0.9553 - val_loss: 0.2973 - val_accuracy: 0.9046\n"
          ]
        }
      ]
    },
    {
      "cell_type": "code",
      "source": [
        "compare_history(history_4,history_2,5)"
      ],
      "metadata": {
        "colab": {
          "base_uri": "https://localhost:8080/",
          "height": 499
        },
        "id": "MP45tRbJUyIS",
        "outputId": "6634337a-cfec-4088-9780-3bcbb3171686"
      },
      "execution_count": null,
      "outputs": [
        {
          "output_type": "display_data",
          "data": {
            "image/png": "[encoded data removed]",
            "text/plain": [
              "<Figure size 576x576 with 2 Axes>"
            ]
          },
          "metadata": {
            "needs_background": "light"
          }
        }
      ]
    },
    {
      "cell_type": "code",
      "source": [
        "model_2.evaluate(test_data_all)"
      ],
      "metadata": {
        "colab": {
          "base_uri": "https://localhost:8080/"
        },
        "id": "n67FaP8eWt5l",
        "outputId": "8b2bbbee-9021-4bbc-c686-48742b67f311"
      },
      "execution_count": null,
      "outputs": [
        {
          "output_type": "stream",
          "name": "stdout",
          "text": [
            "79/79 [==============================] - 11s 133ms/step - loss: 0.2700 - accuracy: 0.9120\n"
          ]
        },
        {
          "output_type": "execute_result",
          "data": {
            "text/plain": [
              "[0.27003270387649536, 0.9120000004768372]"
            ]
          },
          "metadata": {},
          "execution_count": 189
        }
      ]
    },
    {
      "cell_type": "code",
      "source": [],
      "metadata": {
        "id": "8vkQ_95WYVPc"
      },
      "execution_count": null,
      "outputs": []
    }
  ]
}