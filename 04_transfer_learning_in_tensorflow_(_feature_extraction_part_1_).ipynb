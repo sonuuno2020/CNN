{
  "nbformat": 4,
  "nbformat_minor": 0,
  "metadata": {
    "colab": {
      "provenance": [],
      "collapsed_sections": [],
      "authorship_tag": "ABX9TyP9HxiAAAFOcN+gD+8717Xb",
      "include_colab_link": true
    },
    "kernelspec": {
      "name": "python3",
      "display_name": "Python 3"
    },
    "language_info": {
      "name": "python"
    },
    "accelerator": "GPU"
  },
  "cells": [
    {
      "cell_type": "markdown",
      "metadata": {
        "id": "view-in-github",
        "colab_type": "text"
      },
      "source": [
        "<a href=\"https://colab.research.google.com/github/sonuuno2020/CNN/blob/main/04_transfer_learning_in_tensorflow_(_feature_extraction_part_1_).ipynb\" target=\"_parent\"><img src=\"https://colab.research.google.com/assets/colab-badge.svg\" alt=\"Open In Colab\"/></a>"
      ]
    },
    {
      "cell_type": "markdown",
      "source": [
        "# **What is transfer leraning ❓**\n",
        "\n",
        "**It is leveraging an existing model which has `proven to work` on similar problem to our problem...**\n",
        "**It has already learned patterns on similar to our data.**\n",
        "\n",
        "---\n",
        "\n",
        "> In this notebook we are going to use **feautre extraction** technique of **transfer learning**..\n",
        "\n",
        "In this technique we use a pretrained model which is used **as it as ( without training )** and only output layer goes in training..\n",
        "\n",
        "Here we train our model on different dataset."
      ],
      "metadata": {
        "id": "xuC9xkNsqiNd"
      }
    },
    {
      "cell_type": "code",
      "execution_count": null,
      "metadata": {
        "colab": {
          "base_uri": "https://localhost:8080/"
        },
        "id": "w1YmMpKZnvLT",
        "outputId": "4b2aaf8d-a387-4dca-992e-38bcce4f7afd"
      },
      "outputs": [
        {
          "output_type": "stream",
          "name": "stdout",
          "text": [
            "Fri Jan 21 12:48:38 2022       \n",
            "+-----------------------------------------------------------------------------+\n",
            "| NVIDIA-SMI 495.46       Driver Version: 460.32.03    CUDA Version: 11.2     |\n",
            "|-------------------------------+----------------------+----------------------+\n",
            "| GPU  Name        Persistence-M| Bus-Id        Disp.A | Volatile Uncorr. ECC |\n",
            "| Fan  Temp  Perf  Pwr:Usage/Cap|         Memory-Usage | GPU-Util  Compute M. |\n",
            "|                               |                      |               MIG M. |\n",
            "|===============================+======================+======================|\n",
            "|   0  Tesla K80           Off  | 00000000:00:04.0 Off |                    0 |\n",
            "| N/A   39C    P8    27W / 149W |      0MiB / 11441MiB |      0%      Default |\n",
            "|                               |                      |                  N/A |\n",
            "+-------------------------------+----------------------+----------------------+\n",
            "                                                                               \n",
            "+-----------------------------------------------------------------------------+\n",
            "| Processes:                                                                  |\n",
            "|  GPU   GI   CI        PID   Type   Process name                  GPU Memory |\n",
            "|        ID   ID                                                   Usage      |\n",
            "|=============================================================================|\n",
            "|  No running processes found                                                 |\n",
            "+-----------------------------------------------------------------------------+\n"
          ]
        }
      ],
      "source": [
        "!nvidia-smi # are we using GPU"
      ]
    },
    {
      "cell_type": "markdown",
      "source": [
        "## **Get Data**"
      ],
      "metadata": {
        "id": "5AUxSJjMrxZN"
      }
    },
    {
      "cell_type": "code",
      "source": [
        "import zipfile\n",
        "\n",
        "!wget https://storage.googleapis.com/ztm_tf_course/food_vision/10_food_classes_10_percent.zip\n",
        "\n",
        "zipref=zipfile.ZipFile('10_food_classes_10_percent.zip')\n",
        "zipref.extractall()\n",
        "zipref.close()\n"
      ],
      "metadata": {
        "colab": {
          "base_uri": "https://localhost:8080/"
        },
        "id": "29OAHtmzrl4N",
        "outputId": "e63a43b1-ae9b-4c48-f895-d9b16688e3d1"
      },
      "execution_count": null,
      "outputs": [
        {
          "output_type": "stream",
          "name": "stdout",
          "text": [
            "--2022-01-21 12:51:39--  https://storage.googleapis.com/ztm_tf_course/food_vision/10_food_classes_10_percent.zip\n",
            "Resolving storage.googleapis.com (storage.googleapis.com)... 173.194.197.128, 173.194.192.128, 209.85.145.128, ...\n",
            "Connecting to storage.googleapis.com (storage.googleapis.com)|173.194.197.128|:443... connected.\n",
            "HTTP request sent, awaiting response... 200 OK\n",
            "Length: 168546183 (161M) [application/zip]\n",
            "Saving to: ‘10_food_classes_10_percent.zip’\n",
            "\n",
            "10_food_classes_10_ 100%[===================>] 160.74M   215MB/s    in 0.7s    \n",
            "\n",
            "2022-01-21 12:51:40 (215 MB/s) - ‘10_food_classes_10_percent.zip’ saved [168546183/168546183]\n",
            "\n"
          ]
        }
      ]
    },
    {
      "cell_type": "markdown",
      "source": [
        "## **Become one with data**"
      ],
      "metadata": {
        "id": "_kHpFh0LsUM8"
      }
    },
    {
      "cell_type": "code",
      "source": [
        "import os"
      ],
      "metadata": {
        "id": "ev07sZuusph5"
      },
      "execution_count": null,
      "outputs": []
    },
    {
      "cell_type": "code",
      "source": [
        "for dirpath,dirname,filename in os.walk('10_food_classes_10_percent'):\n",
        "  print(f\"there are {len(dirname)} directories and {len(filename)} images in {dirpath}\")"
      ],
      "metadata": {
        "colab": {
          "base_uri": "https://localhost:8080/"
        },
        "id": "lcEtfjqnsKmA",
        "outputId": "f391fdec-7786-4e48-c3db-31ea4ade6d2c"
      },
      "execution_count": null,
      "outputs": [
        {
          "output_type": "stream",
          "name": "stdout",
          "text": [
            "there are 2 directories and 0 images in 10_food_classes_10_percent\n",
            "there are 10 directories and 0 images in 10_food_classes_10_percent/test\n",
            "there are 0 directories and 250 images in 10_food_classes_10_percent/test/pizza\n",
            "there are 0 directories and 250 images in 10_food_classes_10_percent/test/sushi\n",
            "there are 0 directories and 250 images in 10_food_classes_10_percent/test/steak\n",
            "there are 0 directories and 250 images in 10_food_classes_10_percent/test/grilled_salmon\n",
            "there are 0 directories and 250 images in 10_food_classes_10_percent/test/hamburger\n",
            "there are 0 directories and 250 images in 10_food_classes_10_percent/test/chicken_curry\n",
            "there are 0 directories and 250 images in 10_food_classes_10_percent/test/chicken_wings\n",
            "there are 0 directories and 250 images in 10_food_classes_10_percent/test/ice_cream\n",
            "there are 0 directories and 250 images in 10_food_classes_10_percent/test/fried_rice\n",
            "there are 0 directories and 250 images in 10_food_classes_10_percent/test/ramen\n",
            "there are 10 directories and 0 images in 10_food_classes_10_percent/train\n",
            "there are 0 directories and 75 images in 10_food_classes_10_percent/train/pizza\n",
            "there are 0 directories and 75 images in 10_food_classes_10_percent/train/sushi\n",
            "there are 0 directories and 75 images in 10_food_classes_10_percent/train/steak\n",
            "there are 0 directories and 75 images in 10_food_classes_10_percent/train/grilled_salmon\n",
            "there are 0 directories and 75 images in 10_food_classes_10_percent/train/hamburger\n",
            "there are 0 directories and 75 images in 10_food_classes_10_percent/train/chicken_curry\n",
            "there are 0 directories and 75 images in 10_food_classes_10_percent/train/chicken_wings\n",
            "there are 0 directories and 75 images in 10_food_classes_10_percent/train/ice_cream\n",
            "there are 0 directories and 75 images in 10_food_classes_10_percent/train/fried_rice\n",
            "there are 0 directories and 75 images in 10_food_classes_10_percent/train/ramen\n"
          ]
        }
      ]
    },
    {
      "cell_type": "markdown",
      "source": [
        "### **create data loaders**"
      ],
      "metadata": {
        "id": "IJxRW1UwtUaW"
      }
    },
    {
      "cell_type": "code",
      "source": [
        "train_dir='10_food_classes_10_percent/train'\n",
        "test_dir='10_food_classes_10_percent/test'"
      ],
      "metadata": {
        "id": "0eYKr_uMtAXr"
      },
      "execution_count": null,
      "outputs": []
    },
    {
      "cell_type": "code",
      "source": [
        "from tensorflow.keras.preprocessing.image import ImageDataGenerator\n",
        "\n",
        "train_datagen=ImageDataGenerator(rescale=1/255.)\n",
        "test_datagen=ImageDataGenerator(rescale=1/255.)\n",
        "\n",
        "print(\"training images:\")\n",
        "\n",
        "train_data_10p=train_datagen.flow_from_directory(train_dir,\n",
        "                                                 target_size=(224,224),\n",
        "                                                 batch_size=32,\n",
        "                                                 )\n",
        "print(\"Testing images:\")\n",
        "\n",
        "test_data_10p=test_datagen.flow_from_directory(test_dir,\n",
        "                                               target_size=(224,224),\n",
        "                                               batch_size=32)"
      ],
      "metadata": {
        "colab": {
          "base_uri": "https://localhost:8080/"
        },
        "id": "hjgunjrLtRcO",
        "outputId": "dd926dfa-688a-4274-b2b0-0a2950f12282"
      },
      "execution_count": null,
      "outputs": [
        {
          "output_type": "stream",
          "name": "stdout",
          "text": [
            "training images:\n",
            "Found 750 images belonging to 10 classes.\n",
            "Testing images:\n",
            "Found 2500 images belonging to 10 classes.\n"
          ]
        }
      ]
    },
    {
      "cell_type": "markdown",
      "source": [
        "## **setting up callbacks**\n",
        "\n",
        "**Callback** : extra functionality added to model,which exceute during training and after training...\n",
        "\n",
        "popular callbacks 🐾\n",
        "\n",
        "1. tracking training of our model by tensorboard callback\n",
        "2. Model checkpoint with ModelCheckPoint callback\n",
        "3. stopping model to train callback by EarlyStopping callback"
      ],
      "metadata": {
        "id": "951ZWRTBucQW"
      }
    },
    {
      "cell_type": "code",
      "source": [
        "# create tensorboard callback for tracing model training\n",
        "\n",
        "import datetime\n",
        " \n",
        "\n",
        "def create_tensorboard_callback(dirname,experiment_name):\n",
        "\n",
        "  logdir=dirname+\"/\"+experiment_name+\"/\"+datetime.datetime.now().strftime(\"%Y%m%d-%H%M%S\")\n",
        "  tensorboard_callback=tf.keras.callbacks.TensorBoard(log_dir=logdir)\n",
        "  print(f\"Saving Tensorboard log files to {logdir}\")\n",
        "  return tensorboard_callback"
      ],
      "metadata": {
        "id": "360Y-rDMuJDq"
      },
      "execution_count": null,
      "outputs": []
    },
    {
      "cell_type": "markdown",
      "source": [
        "## **Creating models with Tensorflow_hub**\n",
        "\n",
        "It is a collection of trained models.\n",
        "https://tfhub.dev/s?module-type=image-classification\n"
      ],
      "metadata": {
        "id": "keR3qWVdy3gf"
      }
    },
    {
      "cell_type": "markdown",
      "source": [
        "Ater browsing on above link we found a model ☢\n",
        "\n",
        "EfficientNet 🐾 https://tfhub.dev/tensorflow/efficientnet/b0/feature-vector/1\n",
        "\n",
        "ResNet 🐾 https://tfhub.dev/google/imagenet/resnet_v1_50/feature_vector/5\n",
        "\n"
      ],
      "metadata": {
        "id": "XyHbAO8t2BkP"
      }
    },
    {
      "cell_type": "markdown",
      "source": [
        "**Let's compare these 2 models**"
      ],
      "metadata": {
        "id": "kcBubD7A3L3e"
      }
    },
    {
      "cell_type": "code",
      "source": [
        "resnet_url='https://tfhub.dev/google/imagenet/resnet_v1_50/feature_vector/5'\n",
        "\n",
        "efficientnet_url='https://tfhub.dev/tensorflow/efficientnet/b0/feature-vector/1'"
      ],
      "metadata": {
        "id": "IGvzOiknyDxG"
      },
      "execution_count": null,
      "outputs": []
    },
    {
      "cell_type": "code",
      "source": [
        "# import dependencies\n",
        "\n",
        "import tensorflow as tf\n",
        "import tensorflow_hub as hub\n",
        "from tensorflow.keras import layers\n"
      ],
      "metadata": {
        "id": "AC0BlH_334q5"
      },
      "execution_count": null,
      "outputs": []
    },
    {
      "cell_type": "code",
      "source": [
        "def creat_model(model_url,num_classes):\n",
        "  \"\"\"\n",
        "    inputs: model url extracted from tensorflow_hub,\n",
        "    num classes is number of nueron in output layer\n",
        "    return: a sequential model\n",
        "  \"\"\"\n",
        "  # download pretrained model and save it as keras layer\n",
        "\n",
        "  feature_extractor_layer=hub.KerasLayer(model_url,\n",
        "                                         trainable=False,\n",
        "                                         name=\"feature_extractor_layer\",\n",
        "                                         input_shape=(224,224,3))\n",
        "  model=tf.keras.models.Sequential([\n",
        "    feature_extractor_layer,\n",
        "    layers.Dense(num_classes,activation='softmax',name=\"output_layer\")                                    \n",
        "  ])\n",
        "\n",
        "  return model"
      ],
      "metadata": {
        "id": "ln8XTj-w4U8V"
      },
      "execution_count": null,
      "outputs": []
    },
    {
      "cell_type": "markdown",
      "source": [
        "### **create Resnet feature extraction layer and testing it 😎**"
      ],
      "metadata": {
        "id": "E6ejKSvz6Ehb"
      }
    },
    {
      "cell_type": "code",
      "source": [
        "resnet_model=creat_model(resnet_url,10)"
      ],
      "metadata": {
        "id": "BaE3mXd56Dgt"
      },
      "execution_count": null,
      "outputs": []
    },
    {
      "cell_type": "code",
      "source": [
        "resnet_model.compile(loss=tf.keras.losses.CategoricalCrossentropy(),\n",
        "                     optimizer='adam',\n",
        "                     metrics=['accuracy'])"
      ],
      "metadata": {
        "id": "un129vSU7Lmf"
      },
      "execution_count": null,
      "outputs": []
    },
    {
      "cell_type": "markdown",
      "source": [
        "### **fit resnet model**\n",
        "\n"
      ],
      "metadata": {
        "id": "atBeMOW082-2"
      }
    },
    {
      "cell_type": "code",
      "source": [
        "resnet_history=resnet_model.fit(train_data_10p,epochs=5,\n",
        "                                validation_data=test_data_10p,\n",
        "                                steps_per_epoch=len(train_data_10p),\n",
        "                                validation_steps=len(test_data_10p),\n",
        "                                callbacks=[create_tensorboard_callback('content/records','resnet_model'),])"
      ],
      "metadata": {
        "colab": {
          "base_uri": "https://localhost:8080/"
        },
        "id": "cL_KRat87Yhn",
        "outputId": "d0b350df-701f-4992-d90c-074983ca1554"
      },
      "execution_count": null,
      "outputs": [
        {
          "output_type": "stream",
          "name": "stdout",
          "text": [
            "Saving Tensorboard log files to content/records/resnet_model/20220121-140314\n",
            "Epoch 1/5\n",
            "24/24 [==============================] - 37s 989ms/step - loss: 1.9640 - accuracy: 0.3627 - val_loss: 1.1960 - val_accuracy: 0.6076\n",
            "Epoch 2/5\n",
            "24/24 [==============================] - 20s 878ms/step - loss: 0.9090 - accuracy: 0.7480 - val_loss: 0.8394 - val_accuracy: 0.7300\n",
            "Epoch 3/5\n",
            "24/24 [==============================] - 20s 874ms/step - loss: 0.6095 - accuracy: 0.8307 - val_loss: 0.7429 - val_accuracy: 0.7660\n",
            "Epoch 4/5\n",
            "24/24 [==============================] - 21s 880ms/step - loss: 0.4680 - accuracy: 0.8707 - val_loss: 0.6803 - val_accuracy: 0.7844\n",
            "Epoch 5/5\n",
            "24/24 [==============================] - 21s 882ms/step - loss: 0.3495 - accuracy: 0.9267 - val_loss: 0.6449 - val_accuracy: 0.7952\n"
          ]
        }
      ]
    },
    {
      "cell_type": "markdown",
      "source": [
        "Cool 😃 🤩 😎... 🔥 🎆 \n",
        "\n",
        "This model outperfeorm to all which we make earlier ... with only 10% of data"
      ],
      "metadata": {
        "id": "KVeqczAL-B66"
      }
    },
    {
      "cell_type": "markdown",
      "source": [
        "### **Evaluate resnet model**"
      ],
      "metadata": {
        "id": "P0dpE0Dc-jOF"
      }
    },
    {
      "cell_type": "markdown",
      "source": [
        "make a function to plot loss and accuracy curves.. 💹"
      ],
      "metadata": {
        "id": "S1KdnyXu-uPY"
      }
    },
    {
      "cell_type": "code",
      "source": [
        "import matplotlib.pyplot as plt\n"
      ],
      "metadata": {
        "id": "tMrvdnDk_rU9"
      },
      "execution_count": null,
      "outputs": []
    },
    {
      "cell_type": "code",
      "source": [
        "def plot_loss_curves(history):\n",
        "  loss=history.history[\"loss\"]\n",
        "  val_loss=history.history[\"val_loss\"]\n",
        "\n",
        "  epochs=tf.range(len(loss))\n",
        "\n",
        "  plt.plot(epochs,loss,label=\"loss\")\n",
        "  plt.plot(epochs,val_loss,label=\"validation loss\")\n",
        "  plt.title(\"Loss curves\")\n",
        "  plt.xlabel(\"epochs\")\n",
        "  plt.legend()\n"
      ],
      "metadata": {
        "id": "LxuRtNQV-3qu"
      },
      "execution_count": null,
      "outputs": []
    },
    {
      "cell_type": "code",
      "source": [
        "def plot_accuracy_curves(history):\n",
        "  accuracy=history.history[\"accuracy\"]\n",
        "  val_accuracy=history.history[\"val_accuracy\"]\n",
        "\n",
        "  epochs=tf.range(len(accuracy))\n",
        "\n",
        "  plt.plot(epochs,accuracy,label=\"accuracy\")\n",
        "  plt.plot(epochs,val_accuracy,label=\"val_accuracy\")\n",
        "  plt.title(\"Accuracy curves\")\n",
        "  plt.xlabel(\"epochs\")\n",
        "  plt.legend()"
      ],
      "metadata": {
        "id": "AQQcMpOv_zMp"
      },
      "execution_count": null,
      "outputs": []
    },
    {
      "cell_type": "code",
      "source": [
        "plot_loss_curves(resnet_history)"
      ],
      "metadata": {
        "colab": {
          "base_uri": "https://localhost:8080/",
          "height": 295
        },
        "id": "6HSE5NfA_nad",
        "outputId": "b69ea48b-7fe9-4dde-eeb6-14f2a26ebe5a"
      },
      "execution_count": null,
      "outputs": [
        {
          "output_type": "display_data",
          "data": {
            "image/png": "[encoded data removed]",
            "text/plain": [
              "<Figure size 432x288 with 1 Axes>"
            ]
          },
          "metadata": {
            "needs_background": "light"
          }
        }
      ]
    },
    {
      "cell_type": "code",
      "source": [
        "plot_accuracy_curves(resnet_history)"
      ],
      "metadata": {
        "colab": {
          "base_uri": "https://localhost:8080/",
          "height": 295
        },
        "id": "sQXXfDJiAW_W",
        "outputId": "43d29612-28df-4a5b-9e06-cc2ac8d98862"
      },
      "execution_count": null,
      "outputs": [
        {
          "output_type": "display_data",
          "data": {
            "image/png": "[encoded data removed]",
            "text/plain": [
              "<Figure size 432x288 with 1 Axes>"
            ]
          },
          "metadata": {
            "needs_background": "light"
          }
        }
      ]
    },
    {
      "cell_type": "code",
      "source": [
        "resnet_model.summary()"
      ],
      "metadata": {
        "colab": {
          "base_uri": "https://localhost:8080/"
        },
        "id": "ZU9DTaid6kWx",
        "outputId": "bcd43404-ad9f-4324-e48f-4bc50cece37d"
      },
      "execution_count": null,
      "outputs": [
        {
          "output_type": "stream",
          "name": "stdout",
          "text": [
            "Model: \"sequential_1\"\n",
            "_________________________________________________________________\n",
            " Layer (type)                Output Shape              Param #   \n",
            "=================================================================\n",
            " feature_extractor_layer (Ke  (None, 2048)             23561152  \n",
            " rasLayer)                                                       \n",
            "                                                                 \n",
            " output_layer (Dense)        (None, 10)                20490     \n",
            "                                                                 \n",
            "=================================================================\n",
            "Total params: 23,581,642\n",
            "Trainable params: 20,490\n",
            "Non-trainable params: 23,561,152\n",
            "_________________________________________________________________\n"
          ]
        }
      ]
    },
    {
      "cell_type": "markdown",
      "source": [
        "### **Create Efficientnet feature extraction model and testing it**"
      ],
      "metadata": {
        "id": "HliYm3fGAyHl"
      }
    },
    {
      "cell_type": "code",
      "source": [
        "efficientnet_model=creat_model(efficientnet_url,10)"
      ],
      "metadata": {
        "id": "O9vrWLVT7EYZ"
      },
      "execution_count": null,
      "outputs": []
    },
    {
      "cell_type": "code",
      "source": [
        "efficientnet_model.compile(loss='categorical_crossentropy',\n",
        "                           optimizer='adam',\n",
        "                           metrics=['accuracy'])"
      ],
      "metadata": {
        "id": "y3nIxKDHBCt7"
      },
      "execution_count": null,
      "outputs": []
    },
    {
      "cell_type": "markdown",
      "source": [
        "### **fit efficientnet model**"
      ],
      "metadata": {
        "id": "ewmXboxgBoZh"
      }
    },
    {
      "cell_type": "code",
      "source": [
        "efficientnet_history=efficientnet_model.fit(train_data_10p,\n",
        "                                            epochs=5,\n",
        "                                            steps_per_epoch=len(train_data_10p),\n",
        "                                            validation_data=test_data_10p,\n",
        "                                            validation_steps=len(test_data_10p),\n",
        "                                            callbacks=[create_tensorboard_callback('content/records','efficientnet_model')])"
      ],
      "metadata": {
        "colab": {
          "base_uri": "https://localhost:8080/"
        },
        "id": "7jYmH2CIBaj8",
        "outputId": "512f9c8a-7719-4ded-820f-1a076a1d97ac"
      },
      "execution_count": null,
      "outputs": [
        {
          "output_type": "stream",
          "name": "stdout",
          "text": [
            "Saving Tensorboard log files to content/records/efficientnet_model/20220121-142718\n",
            "Epoch 1/5\n",
            "24/24 [==============================] - 32s 865ms/step - loss: 1.8513 - accuracy: 0.4280 - val_loss: 1.3097 - val_accuracy: 0.7268\n",
            "Epoch 2/5\n",
            "24/24 [==============================] - 18s 779ms/step - loss: 1.0674 - accuracy: 0.7693 - val_loss: 0.8764 - val_accuracy: 0.8128\n",
            "Epoch 3/5\n",
            "24/24 [==============================] - 18s 780ms/step - loss: 0.7525 - accuracy: 0.8360 - val_loss: 0.7023 - val_accuracy: 0.8440\n",
            "Epoch 4/5\n",
            "24/24 [==============================] - 18s 781ms/step - loss: 0.6066 - accuracy: 0.8693 - val_loss: 0.6131 - val_accuracy: 0.8524\n",
            "Epoch 5/5\n",
            "24/24 [==============================] - 18s 777ms/step - loss: 0.5135 - accuracy: 0.8893 - val_loss: 0.5561 - val_accuracy: 0.8628\n"
          ]
        }
      ]
    },
    {
      "cell_type": "markdown",
      "source": [
        "### **Evaluate efficientnet model**"
      ],
      "metadata": {
        "id": "jumDq15kCXK6"
      }
    },
    {
      "cell_type": "code",
      "source": [
        "plot_loss_curves(efficientnet_history)"
      ],
      "metadata": {
        "colab": {
          "base_uri": "https://localhost:8080/",
          "height": 295
        },
        "id": "QRroFHYxCLNs",
        "outputId": "1328f60a-b706-4179-8fd4-e511c47ad2f6"
      },
      "execution_count": null,
      "outputs": [
        {
          "output_type": "display_data",
          "data": {
            "image/png": "[encoded data removed]",
            "text/plain": [
              "<Figure size 432x288 with 1 Axes>"
            ]
          },
          "metadata": {
            "needs_background": "light"
          }
        }
      ]
    },
    {
      "cell_type": "code",
      "source": [
        "plot_accuracy_curves(efficientnet_history)"
      ],
      "metadata": {
        "colab": {
          "base_uri": "https://localhost:8080/",
          "height": 295
        },
        "id": "litbzvkwCwry",
        "outputId": "c3d01625-d3b3-4fe4-e47b-3cf1366accbb"
      },
      "execution_count": null,
      "outputs": [
        {
          "output_type": "display_data",
          "data": {
            "image/png": "[encoded data removed]",
            "text/plain": [
              "<Figure size 432x288 with 1 Axes>"
            ]
          },
          "metadata": {
            "needs_background": "light"
          }
        }
      ]
    },
    {
      "cell_type": "code",
      "source": [
        "efficientnet_model.summary()"
      ],
      "metadata": {
        "colab": {
          "base_uri": "https://localhost:8080/"
        },
        "id": "DBlMEGc7CzxL",
        "outputId": "9365a7be-4811-4d72-c5bf-729513fba6a3"
      },
      "execution_count": null,
      "outputs": [
        {
          "output_type": "stream",
          "name": "stdout",
          "text": [
            "Model: \"sequential_2\"\n",
            "_________________________________________________________________\n",
            " Layer (type)                Output Shape              Param #   \n",
            "=================================================================\n",
            " feature_extractor_layer (Ke  (None, 1280)             4049564   \n",
            " rasLayer)                                                       \n",
            "                                                                 \n",
            " output_layer (Dense)        (None, 10)                12810     \n",
            "                                                                 \n",
            "=================================================================\n",
            "Total params: 4,062,374\n",
            "Trainable params: 12,810\n",
            "Non-trainable params: 4,049,564\n",
            "_________________________________________________________________\n"
          ]
        }
      ]
    },
    {
      "cell_type": "markdown",
      "source": [
        "## **Compare our models on tensorboard**"
      ],
      "metadata": {
        "id": "rA877nb3Hjkf"
      }
    },
    {
      "cell_type": "markdown",
      "source": [
        "tensorboard is used to visualize model and explore it."
      ],
      "metadata": {
        "id": "aW3XmaQuHsjY"
      }
    },
    {
      "cell_type": "code",
      "source": [
        "# upload to tensorboard\n",
        "\n",
        "!tensorboard dev upload --logdir ./content/ \\\n",
        "  --name \"Resnet v/s EfficientNet\" \\\n",
        "  --one_shot"
      ],
      "metadata": {
        "colab": {
          "base_uri": "https://localhost:8080/"
        },
        "id": "uq7_S8hkC2q1",
        "outputId": "faacb94d-7f16-4c8a-b41b-623da307707c"
      },
      "execution_count": null,
      "outputs": [
        {
          "output_type": "stream",
          "name": "stdout",
          "text": [
            "\n",
            "***** TensorBoard Uploader *****\n",
            "\n",
            "This will upload your TensorBoard logs to https://tensorboard.dev/ from\n",
            "the following directory:\n",
            "\n",
            "./content/\n",
            "\n",
            "This TensorBoard will be visible to everyone. Do not upload sensitive\n",
            "data.\n",
            "\n",
            "Your use of this service is subject to Google's Terms of Service\n",
            "<https://policies.google.com/terms> and Privacy Policy\n",
            "<https://policies.google.com/privacy>, and TensorBoard.dev's Terms of Service\n",
            "<https://tensorboard.dev/policy/terms/>.\n",
            "\n",
            "This notice will not be shown again while you are logged into the uploader.\n",
            "To log out, run `tensorboard dev auth revoke`.\n",
            "\n",
            "Continue? (yes/NO) yes\n",
            "\n",
            "Please visit this URL to authorize this application: https://accounts.google.com/o/oauth2/auth?response_type=code&client_id=373649185512-8v619h5kft38l4456nm2dj4ubeqsrvh6.apps.googleusercontent.com&redirect_uri=urn%3Aietf%3Awg%3Aoauth%3A2.0%3Aoob&scope=openid+https%3A%2F%2Fwww.googleapis.com%2Fauth%2Fuserinfo.email&state=DhARIPcBTtj7ThqQq6YSkWn9Dzimp0&prompt=consent&access_type=offline\n",
            "Enter the authorization code: 4/1AX4XfWgYSMLpNlD0LtEXUfmNHUSe4mZagNx8YmbpGqs_axcVen3YzwWOhcE\n",
            "\n",
            "\n",
            "New experiment created. View your TensorBoard at: https://tensorboard.dev/experiment/wGvW97z6TQaVSYmBiK4XXw/\n",
            "\n",
            "\u001b[1m[2022-01-21T14:59:22]\u001b[0m Started scanning logdir.\n",
            "\u001b[1m[2022-01-21T14:59:24]\u001b[0m Total uploaded: 60 scalars, 0 tensors, 2 binary objects (5.6 MB)\n",
            "\u001b[1m[2022-01-21T14:59:24]\u001b[0m Done scanning logdir.\n",
            "\n",
            "\n",
            "Done. View your TensorBoard at https://tensorboard.dev/experiment/wGvW97z6TQaVSYmBiK4XXw/\n"
          ]
        }
      ]
    },
    {
      "cell_type": "code",
      "source": [
        "!tensorboard dev list\n"
      ],
      "metadata": {
        "colab": {
          "base_uri": "https://localhost:8080/"
        },
        "id": "MQNiRIRLJUIP",
        "outputId": "cf8b921f-7b33-4fd0-a07d-e3d81e6c82e1"
      },
      "execution_count": null,
      "outputs": [
        {
          "output_type": "stream",
          "name": "stdout",
          "text": [
            "https://tensorboard.dev/experiment/wGvW97z6TQaVSYmBiK4XXw/\n",
            "\tName                 Resnet v/s EfficientNet\n",
            "\tDescription          [No Description]\n",
            "\tId                   wGvW97z6TQaVSYmBiK4XXw\n",
            "\tCreated              2022-01-21 14:59:22 (4 minutes ago)\n",
            "\tUpdated              2022-01-21 14:59:24 (4 minutes ago)\n",
            "\tRuns                 4\n",
            "\tTags                 5\n",
            "\tScalars              60\n",
            "\tTensor bytes         0\n",
            "\tBinary object bytes  5841890\n",
            "Total: 1 experiment(s)\n"
          ]
        }
      ]
    },
    {
      "cell_type": "code",
      "source": [],
      "metadata": {
        "id": "SmERvc1bKU2T"
      },
      "execution_count": null,
      "outputs": []
    }
  ]
}